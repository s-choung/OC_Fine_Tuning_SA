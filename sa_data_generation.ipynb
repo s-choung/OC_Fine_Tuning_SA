{
  "cells": [
    {
      "cell_type": "markdown",
      "metadata": {
        "id": "view-in-github",
        "colab_type": "text"
      },
      "source": [
        "<a href=\"https://colab.research.google.com/github/s-choung/OC_Fine_Tuning_SA/blob/main/sa_data_generation.ipynb\" target=\"_parent\"><img src=\"https://colab.research.google.com/assets/colab-badge.svg\" alt=\"Open In Colab\"/></a>"
      ]
    },
    {
      "cell_type": "markdown",
      "metadata": {
        "id": "5-JateToGjJk"
      },
      "source": [
        "## OCP installation"
      ]
    },
    {
      "cell_type": "code",
      "source": [
        "from google.colab import drive\n",
        "import os\n",
        "\n",
        "drive.mount('/content/drive')\n",
        "# Set the path to your pseudopotential files in Google Drive\n",
        "pp_drive_path = '/content/drive/My Drive/potcars'  # Update this path to your actual directory\n",
        "# Set the VASP_PP_PATH environment variable\n",
        "os.environ['VASP_PP_PATH'] = pp_drive_path\n"
      ],
      "metadata": {
        "colab": {
          "base_uri": "https://localhost:8080/"
        },
        "id": "21Lzcd4mB0cQ",
        "outputId": "ef1cb608-ae0d-42b6-cd2f-10b7d5a3ecc5"
      },
      "execution_count": null,
      "outputs": [
        {
          "output_type": "stream",
          "name": "stdout",
          "text": [
            "Drive already mounted at /content/drive; to attempt to forcibly remount, call drive.mount(\"/content/drive\", force_remount=True).\n"
          ]
        }
      ]
    },
    {
      "cell_type": "code",
      "execution_count": null,
      "metadata": {
        "colab": {
          "base_uri": "https://localhost:8080/",
          "height": 633
        },
        "id": "979M637dgdx6",
        "outputId": "52c9e231-be96-4d30-9edc-f4ae749440ec"
      },
      "outputs": [
        {
          "output_type": "stream",
          "name": "stdout",
          "text": [
            "2.1.0+cu118\n",
            "  Installing build dependencies ... \u001b[?25l\u001b[?25hdone\n",
            "  Getting requirements to build wheel ... \u001b[?25l\u001b[?25hdone\n",
            "  Preparing metadata (pyproject.toml) ... \u001b[?25l\u001b[?25hdone\n",
            "Cloning into 'ocp'...\n",
            "remote: Enumerating objects: 11623, done.\u001b[K\n",
            "remote: Counting objects: 100% (2721/2721), done.\u001b[K\n",
            "remote: Compressing objects: 100% (603/603), done.\u001b[K\n",
            "remote: Total 11623 (delta 2398), reused 2161 (delta 2118), pack-reused 8902\u001b[K\n",
            "Receiving objects: 100% (11623/11623), 173.89 MiB | 41.70 MiB/s, done.\n",
            "Resolving deltas: 100% (8024/8024), done.\n",
            "Obtaining file:///content/ocp/Open-Catalyst-Dataset/Open-Catalyst-Dataset/ocp\n",
            "  Installing build dependencies ... \u001b[?25l\u001b[?25hdone\n",
            "  Checking if build backend supports build_editable ... \u001b[?25l\u001b[?25hdone\n",
            "  Getting requirements to build editable ... \u001b[?25l\u001b[?25hdone\n",
            "  Preparing editable metadata (pyproject.toml) ... \u001b[?25l\u001b[?25hdone\n",
            "Building wheels for collected packages: ocp-models\n",
            "  Building editable for ocp-models (pyproject.toml) ... \u001b[?25l\u001b[?25hdone\n",
            "  Created wheel for ocp-models: filename=ocp_models-0.0.3-0.editable-py3-none-any.whl size=3498 sha256=4235c0a6a0dddb5f1d6d87d07927ad861fb35c77ccfa108a70821d567cc0f8f7\n",
            "  Stored in directory: /tmp/pip-ephem-wheel-cache-pgyhur1r/wheels/e9/34/9d/739356b31d3215c1b5293bb2c2d9880694c28376d19e1660e2\n",
            "Successfully built ocp-models\n",
            "Installing collected packages: ocp-models\n",
            "  Attempting uninstall: ocp-models\n",
            "    Found existing installation: ocp-models 0.0.3\n",
            "    Uninstalling ocp-models-0.0.3:\n",
            "      Successfully uninstalled ocp-models-0.0.3\n",
            "Successfully installed ocp-models-0.0.3\n"
          ]
        },
        {
          "output_type": "display_data",
          "data": {
            "application/vnd.colab-display-data+json": {
              "pip_warning": {
                "packages": [
                  "ocpmodels"
                ]
              }
            }
          },
          "metadata": {}
        },
        {
          "output_type": "stream",
          "name": "stdout",
          "text": [
            "Requirement already satisfied: submitit in /usr/local/lib/python3.10/dist-packages (1.5.0)\n",
            "Requirement already satisfied: cloudpickle>=1.2.1 in /usr/local/lib/python3.10/dist-packages (from submitit) (2.2.1)\n",
            "Requirement already satisfied: typing_extensions>=3.7.4.2 in /usr/local/lib/python3.10/dist-packages (from submitit) (4.8.0)\n"
          ]
        }
      ],
      "source": [
        "import os\n",
        "import torch\n",
        "os.environ['TORCH'] = torch.__version__\n",
        "print(torch.__version__)\n",
        "\n",
        "!pip install -q torch-scatter -f https://data.pyg.org/whl/torch-${TORCH}.html\n",
        "!pip install -q torch-sparse -f https://data.pyg.org/whl/torch-${TORCH}.html\n",
        "!pip install -q torch-cluster -f https://data.pyg.org/whl/torch-${TORCH}.html\n",
        "!pip install -q git+https://github.com/pyg-team/pytorch_geometric.git\n",
        "\n",
        "if not os.path.exists('ocp'):\n",
        "     !git clone https://github.com/Open-Catalyst-Project/ocp.git\n",
        "os.chdir('ocp')\n",
        "!pip install -e .\n",
        "!pip -q install  lmdb pymatgen==2023.5.10 ase==3.22.1 orjson e3nn==0.2.6 wandb\n",
        "!pip install submitit"
      ]
    },
    {
      "cell_type": "code",
      "execution_count": null,
      "metadata": {
        "colab": {
          "base_uri": "https://localhost:8080/"
        },
        "id": "m3NVLoWuFPz9",
        "outputId": "cd43a029-0159-42c9-e500-7162b2cb7490"
      },
      "outputs": [
        {
          "output_type": "execute_result",
          "data": {
            "text/plain": [
              "False"
            ]
          },
          "metadata": {},
          "execution_count": 43
        }
      ],
      "source": [
        "torch.cuda.is_available()"
      ]
    },
    {
      "cell_type": "code",
      "execution_count": null,
      "metadata": {
        "id": "WFhrw-pWeGWp"
      },
      "outputs": [],
      "source": [
        "import json,zipfile\n",
        "import numpy as np\n",
        "import pandas as pd\n",
        "from tqdm import tqdm\n",
        "\n",
        "from ase.io import read\n",
        "\n",
        "from torch.nn.parallel import DistributedDataParallel as DDP\n",
        "import torch.distributed as dist\n",
        "\n",
        "from ocpmodels.datasets import SinglePointLmdbDataset\n",
        "from ocpmodels.preprocessing import AtomsToGraphs\n",
        "from ocpmodels.models import CGCNN,SchNet\n",
        "from ocpmodels.datasets import data_list_collater\n",
        "from ocpmodels.common.relaxation.ase_utils import OCPCalculator\n"
      ]
    },
    {
      "cell_type": "code",
      "execution_count": null,
      "metadata": {
        "id": "iduEf7KgicAn"
      },
      "outputs": [],
      "source": [
        "if torch.cuda.is_available():\n",
        "    device = torch.device(\"cuda\")\n"
      ]
    },
    {
      "cell_type": "code",
      "source": [
        "from ase import Atoms\n",
        "from ase.io import Trajectory, write\n",
        "from ase.build import bulk, surface, molecule, add_adsorbate, fcc111\n",
        "from ase.constraints import ExpCellFilter, StrainFilter, FixAtoms, FixedPlane, FixBondLength\n",
        "from ase.optimize import LBFGS, BFGS, FIRE\n",
        "from ase.neb import NEB\n",
        "from ase.vibrations import Vibrations\n",
        "from ase.thermochemistry import IdealGasThermo\n",
        "from ase.visualize import view\n",
        "from ase.build.rotate import minimize_rotation_and_translation\n",
        "from ase.md import MDLogger\n",
        "from ase.io.vasp import read_vasp\n",
        "\n",
        "import pandas as pd\n",
        "import ipywidgets as widgets\n",
        "from IPython.display import display_png, Image as ImageWidget\n",
        "import matplotlib.pyplot as plt\n",
        "import matplotlib.image as mpimg\n",
        "\n",
        "import os\n",
        "import shutil\n",
        "\n",
        "import glob\n",
        "from pathlib import Path\n",
        "from PIL import Image, ImageDraw\n",
        "\n",
        "from pymatgen.core import Lattice, Structure, Molecule\n",
        "from pymatgen.io.vasp import Poscar\n",
        "from pymatgen.core.surface import SlabGenerator\n",
        "from pymatgen.io.ase import AseAtomsAdaptor\n",
        "\n",
        "import numpy as np\n",
        "from scipy.spatial.distance import cdist\n",
        "def visual(structure, index, max_size=(100, 100), stretch_y=1.0):\n",
        "    renderer = write('./temp.pov', structure, rotation='15z,-90x')\n",
        "    renderer.render()\n",
        "    image_path = './temp.png'\n",
        "    img = Image.open(image_path)\n",
        "\n",
        "    # Calculate new size with stretch factor\n",
        "    new_size = (max_size[0], int(max_size[1] * stretch_y))\n",
        "    img = img.resize(new_size, Image.LANCZOS)\n",
        "    display(img)\n",
        "    # Move files to output directory\n",
        "    files = ['./temp.ini', './temp.pov', './temp.png']\n",
        "    destination = './output/'\n",
        "\n",
        "    # Ensure destination directory exists\n",
        "    os.makedirs(destination, exist_ok=True)\n",
        "\n",
        "    for file in files:\n",
        "        # Remove the file in the destination directory if it exists\n",
        "        if os.path.isfile(os.path.join(destination, os.path.basename(file))):\n",
        "            os.remove(os.path.join(destination, os.path.basename(file)))\n",
        "\n",
        "        shutil.move(file, destination)\n"
      ],
      "metadata": {
        "id": "EWt6R52XSr5z"
      },
      "execution_count": null,
      "outputs": []
    },
    {
      "cell_type": "code",
      "source": [
        "!sudo apt-get install povray  ## visulization program"
      ],
      "metadata": {
        "colab": {
          "base_uri": "https://localhost:8080/"
        },
        "id": "gSSdY8iGSvBk",
        "outputId": "fd3988fd-582e-4ccd-b5de-c71b38ab30cc"
      },
      "execution_count": null,
      "outputs": [
        {
          "output_type": "stream",
          "name": "stdout",
          "text": [
            "Reading package lists... Done\n",
            "Building dependency tree... Done\n",
            "Reading state information... Done\n",
            "povray is already the newest version (1:3.7.0.10-1).\n",
            "0 upgraded, 0 newly installed, 0 to remove and 19 not upgraded.\n"
          ]
        }
      ]
    },
    {
      "cell_type": "markdown",
      "metadata": {
        "id": "zED6-scoGBU5"
      },
      "source": [
        "## load some useful utillities\n",
        " code taken from https://open-catalyst-project.github.io/tutorial/fine-tuning/fine-tuning-oxides.html"
      ]
    },
    {
      "cell_type": "code",
      "execution_count": null,
      "metadata": {
        "colab": {
          "base_uri": "https://localhost:8080/"
        },
        "id": "CxuIhVTm1MTz",
        "outputId": "5a41972c-da79-47e0-83a5-1a0f89274019"
      },
      "outputs": [
        {
          "output_type": "stream",
          "name": "stdout",
          "text": [
            "--2023-10-29 06:04:03--  https://dl.fbaipublicfiles.com/opencatalystproject/models/2021_02/is2re/schnet_all.pt\n",
            "Resolving dl.fbaipublicfiles.com (dl.fbaipublicfiles.com)... 13.249.39.6, 13.249.39.25, 13.249.39.82, ...\n",
            "Connecting to dl.fbaipublicfiles.com (dl.fbaipublicfiles.com)|13.249.39.6|:443... connected.\n",
            "HTTP request sent, awaiting response... 200 OK\n",
            "Length: 14643781 (14M) [binary/octet-stream]\n",
            "Saving to: ‘schnet_all.pt.1’\n",
            "\n",
            "schnet_all.pt.1     100%[===================>]  13.96M  --.-KB/s    in 0.1s    \n",
            "\n",
            "2023-10-29 06:04:04 (101 MB/s) - ‘schnet_all.pt.1’ saved [14643781/14643781]\n",
            "\n"
          ]
        }
      ],
      "source": [
        "os.chdir('/content/ocp')\n",
        "!wget -q https://dl.fbaipublicfiles.com/opencatalystproject/models/2021_08/s2ef/gemnet_t_direct_h512_all.pt\n",
        "!wget https://dl.fbaipublicfiles.com/opencatalystproject/models/2021_02/is2re/schnet_all.pt\n",
        "checkpoint_path = \"/content/ocp/gemnet_t_direct_h512_all.pt\"\n",
        "config_yml_path = \"configs/s2ef/all/gemnet/gemnet-dT.yml\"\n",
        "\n"
      ]
    },
    {
      "cell_type": "code",
      "execution_count": null,
      "metadata": {
        "id": "tYtk3f7G1MMA"
      },
      "outputs": [],
      "source": [
        "# @title\n",
        "import ocpmodels as om\n",
        "from pathlib import Path\n",
        "\n",
        "def ocp_root():\n",
        "    \"\"\"Return the root directory of the installed ocp package.\"\"\"\n",
        "    return Path(om.__file__).parent.parent\n",
        "\n",
        "def ocp_main():\n",
        "    \"\"\"Return the path to ocp main.py\"\"\"\n",
        "    return ocp_root() / \"main.py\""
      ]
    },
    {
      "cell_type": "code",
      "execution_count": null,
      "metadata": {
        "id": "-eTDmQ49h7oK"
      },
      "outputs": [],
      "source": [
        "# @title\n",
        "import subprocess\n",
        "import sys\n",
        "import numba\n",
        "import numpy as np\n",
        "import ase\n",
        "import e3nn\n",
        "import pymatgen.core as pc\n",
        "import torch\n",
        "import torch.cuda as tc\n",
        "import torch_geometric as tg\n",
        "import platform\n",
        "import psutil\n",
        "\n",
        "def describe_ocp():\n",
        "    \"\"\"Print some system information that could be useful in debugging.\"\"\"\n",
        "    print(sys.executable, sys.version)\n",
        "    print(f'ocp is installed at {ocp_root()}')\n",
        "\n",
        "    commit_hash = (\n",
        "            subprocess.check_output(\n",
        "                    [\n",
        "                        \"git\",\n",
        "                        \"-C\",\n",
        "                        om.__path__[0],\n",
        "                        \"describe\",\n",
        "                        \"--always\",\n",
        "                    ]\n",
        "                )\n",
        "                .strip()\n",
        "                .decode(\"ascii\")\n",
        "            )\n",
        "    print(f'ocp repo is at git commit: {commit_hash}')\n",
        "    print(f'numba: {numba.__version__}')\n",
        "    print(f'numpy: {np.version.version}')\n",
        "    print(f'ase: {ase.__version__}')\n",
        "    print(f'e3nn: {e3nn.__version__}')\n",
        "    print(f'pymatgen: {pc.__version__}')\n",
        "    print(f'torch: {torch.version.__version__}')\n",
        "    print(f'torch.version.cuda: {torch.version.cuda}')\n",
        "    print(f'torch.cuda: is_available: {tc.is_available()}')\n",
        "    if tc.is_available():\n",
        "        print('  __CUDNN VERSION:', torch.backends.cudnn.version())\n",
        "        print('  __Number CUDA Devices:', torch.cuda.device_count())\n",
        "        print('  __CUDA Device Name:',torch.cuda.get_device_name(0))\n",
        "        print('  __CUDA Device Total Memory [GB]:',torch.cuda.get_device_properties(0).total_memory/1e9)\n",
        "    print(f'torch geometric: {tg.__version__}')\n",
        "    print()\n",
        "    print(f'Platform: {platform.platform()}')\n",
        "    print(f'  Processor: {platform.processor()}')\n",
        "    print(f'  Virtual memory: {psutil.virtual_memory()}')\n",
        "    print(f'  Swap memory: {psutil.swap_memory()}')\n",
        "    print(f'  Disk usage: {psutil.disk_usage(\"/\")}')"
      ]
    },
    {
      "cell_type": "code",
      "source": [
        "# @title\n",
        "import urllib\n",
        "import os\n",
        "from pathlib import Path\n",
        "import requests\n",
        "\n",
        "checkpoints = {\n",
        "    # Open Catalyst 2020 (OC20)\n",
        "    'CGCNN 200k'\t:'https://dl.fbaipublicfiles.com/opencatalystproject/models/2020_11/s2ef/cgcnn_200k.pt',\n",
        "    'CGCNN 2M'\t    :'https://dl.fbaipublicfiles.com/opencatalystproject/models/2020_11/s2ef/cgcnn_2M.pt',\n",
        "    'CGCNN 20M'\t:'https://dl.fbaipublicfiles.com/opencatalystproject/models/2020_11/s2ef/cgcnn_20M.pt',\n",
        "    'CGCNN All'\t:'https://dl.fbaipublicfiles.com/opencatalystproject/models/2020_11/s2ef/cgcnn_all.pt',\n",
        "    'DimeNet 200k'\t:'https://dl.fbaipublicfiles.com/opencatalystproject/models/2020_11/s2ef/dimenet_200k.pt',\n",
        "    'DimeNet 2M'\t:'https://dl.fbaipublicfiles.com/opencatalystproject/models/2020_11/s2ef/dimenet_2M.pt',\n",
        "    'SchNet 200k'\t:'https://dl.fbaipublicfiles.com/opencatalystproject/models/2020_11/s2ef/schnet_200k.pt',\n",
        "    'SchNet 2M'\t    :'https://dl.fbaipublicfiles.com/opencatalystproject/models/2020_11/s2ef/schnet_2M.pt',\n",
        "    'SchNet 20M'\t:'https://dl.fbaipublicfiles.com/opencatalystproject/models/2020_11/s2ef/schnet_20M.pt',\n",
        "    'SchNet All'\t:'https://dl.fbaipublicfiles.com/opencatalystproject/models/2020_11/s2ef/schnet_all_large.pt',\n",
        "    'DimeNet++ 200k'   :'https://dl.fbaipublicfiles.com/opencatalystproject/models/2021_02/s2ef/dimenetpp_200k.pt',\n",
        "    'DimeNet++ 2M'     :'https://dl.fbaipublicfiles.com/opencatalystproject/models/2021_02/s2ef/dimenetpp_2M.pt',\n",
        "    'DimeNet++ 20M'    :'https://dl.fbaipublicfiles.com/opencatalystproject/models/2021_02/s2ef/dimenetpp_20M.pt',\n",
        "    'DimeNet++ All'    :'https://dl.fbaipublicfiles.com/opencatalystproject/models/2021_02/s2ef/dimenetpp_all.pt',\n",
        "    'SpinConv 2M'    :'https://dl.fbaipublicfiles.com/opencatalystproject/models/2021_12/s2ef/spinconv_force_centric_2M.pt',\n",
        "    'SpinConv All'    :'https://dl.fbaipublicfiles.com/opencatalystproject/models/2021_08/s2ef/spinconv_force_centric_all.pt',\n",
        "    'GemNet-dT 2M'    :'https://dl.fbaipublicfiles.com/opencatalystproject/models/2021_12/s2ef/gemnet_t_direct_h512_2M.pt',\n",
        "    'GemNet-dT All'    :'https://dl.fbaipublicfiles.com/opencatalystproject/models/2021_08/s2ef/gemnet_t_direct_h512_all.pt',\n",
        "    'PaiNN All'    :'https://dl.fbaipublicfiles.com/opencatalystproject/models/2022_05/s2ef/painn_h512_s2ef_all.pt',\n",
        "    'GemNet-OC 2M'     :'https://dl.fbaipublicfiles.com/opencatalystproject/models/2022_07/s2ef/gemnet_oc_base_s2ef_2M.pt',\n",
        "    'GemNet-OC All'    :'https://dl.fbaipublicfiles.com/opencatalystproject/models/2022_07/s2ef/gemnet_oc_base_s2ef_all.pt',\n",
        "    'GemNet-OC All+MD'    :'https://dl.fbaipublicfiles.com/opencatalystproject/models/2023_03/s2ef/gemnet_oc_base_s2ef_all_md.pt',\n",
        "    'GemNet-OC-Large All+MD' :'https://dl.fbaipublicfiles.com/opencatalystproject/models/2022_07/s2ef/gemnet_oc_large_s2ef_all_md.pt',\n",
        "    'SCN 2M'   :'https://dl.fbaipublicfiles.com/opencatalystproject/models/2023_03/s2ef/scn_t1_b1_s2ef_2M.pt',\n",
        "    'SCN-t4-b2 2M'    :'https://dl.fbaipublicfiles.com/opencatalystproject/models/2023_03/s2ef/scn_t4_b2_s2ef_2M.pt',\n",
        "    'SCN All+MD' :'https://dl.fbaipublicfiles.com/opencatalystproject/models/2023_03/s2ef/scn_all_md_s2ef.pt',\n",
        "    'eSCN-L4-M2-Lay12 2M'     :'https://dl.fbaipublicfiles.com/opencatalystproject/models/2023_03/s2ef/escn_l4_m2_lay12_2M_s2ef.pt',\n",
        "    'eSCN-L6-M2-Lay12 2M'    :'https://dl.fbaipublicfiles.com/opencatalystproject/models/2023_03/s2ef/escn_l6_m2_lay12_2M_s2ef.pt',\n",
        "    'eSCN-L6-M2-Lay12 All+MD'     :'https://dl.fbaipublicfiles.com/opencatalystproject/models/2023_03/s2ef/escn_l6_m2_lay12_all_md_s2ef.pt',\n",
        "    'eSCN-L6-M3-Lay20 All+MD'     :'https://dl.fbaipublicfiles.com/opencatalystproject/models/2023_03/s2ef/escn_l6_m3_lay20_all_md_s2ef.pt',\n",
        "    'EquiformerV2 (83M) 2M'     :'https://dl.fbaipublicfiles.com/opencatalystproject/models/2023_06/oc20/s2ef/eq2_83M_2M.pt',\n",
        "    'EquiformerV2 (31M) All+MD'     :'https://dl.fbaipublicfiles.com/opencatalystproject/models/2023_06/oc20/s2ef/eq2_31M_ec4_allmd.pt',\n",
        "    'EquiformerV2 (153M) All+MD'     :'https://dl.fbaipublicfiles.com/opencatalystproject/models/2023_06/oc20/s2ef/eq2_153M_ec4_allmd.pt',\n",
        "    # Open Catalyst 2022 (OC22)\n",
        "    'GemNet-dT OC22'\t: 'https://dl.fbaipublicfiles.com/opencatalystproject/models/2022_09/oc22/s2ef/gndt_oc22_all_s2ef.pt',\n",
        "    'GemNet-OC OC22'\t: 'https://dl.fbaipublicfiles.com/opencatalystproject/models/2022_09/oc22/s2ef/gnoc_oc22_all_s2ef.pt',\n",
        "    'GemNet-OC OC20+OC22'\t: 'https://dl.fbaipublicfiles.com/opencatalystproject/models/2022_09/oc22/s2ef/gnoc_oc22_oc20_all_s2ef.pt',\n",
        "    'GemNet-OC trained with `enforce_max_neighbors_strictly=False` #467 OC20+OC22' : 'https://dl.fbaipublicfiles.com/opencatalystproject/models/2023_05/oc22/s2ef/gnoc_oc22_oc20_all_s2ef.pt',\n",
        "    'GemNet-OC OC20->OC22'\t: 'https://dl.fbaipublicfiles.com/opencatalystproject/models/2022_09/oc22/s2ef/gnoc_finetune_all_s2ef.pt',\n",
        "    'equiformer' : 'https://dl.fbaipublicfiles.com/opencatalystproject/models/2023_10/oc22/s2ef/eq2_121M_e4_f100_oc22_s2ef.pt'\n",
        "                }\n",
        "\n",
        "def list_checkpoints():\n",
        "    \"\"\"List checkpoints that are available to download.\"\"\"\n",
        "    print('See https://github.com/Open-Catalyst-Project/ocp/blob/main/MODELS.md for more details.')\n",
        "    for key in checkpoints:\n",
        "        print(key)\n",
        "    print('Copy one of these keys to get_checkpoint(key) to download it.')\n",
        "\n",
        "\n",
        "def get_checkpoint(key):\n",
        "    \"\"\"Download a checkpoint.\n",
        "\n",
        "    key: string in checkpoints.\n",
        "\n",
        "    Returns name of checkpoint that was saved.\n",
        "    \"\"\"\n",
        "    url = checkpoints.get(key, None)\n",
        "    if url is None:\n",
        "        raise Exception('No url found for {key}')\n",
        "\n",
        "    pt = Path(urllib.parse.urlparse(url).path).name\n",
        "\n",
        "    if not os.path.exists(pt):\n",
        "        with open(pt, 'wb') as f:\n",
        "            print(f'Downloading {url}')\n",
        "            f.write(requests.get(url).content)\n",
        "    return pt"
      ],
      "metadata": {
        "id": "SSufVF7XCn4z"
      },
      "execution_count": null,
      "outputs": []
    },
    {
      "cell_type": "code",
      "execution_count": null,
      "metadata": {
        "id": "pCQ9VQywxacJ"
      },
      "outputs": [],
      "source": [
        "# @title\n",
        "from pathlib import Path\n",
        "import numpy as np\n",
        "from ase.db import connect\n",
        "\n",
        "def train_test_val_split(ase_db, ttv=(0.8, 0.1, .1), files=('train.db', 'test.db', 'val.db'), seed=42):\n",
        "    \"\"\"Split an ase db into train, test and validation dbs.\n",
        "\n",
        "    ase_db: path to an ase db containing all the data.\n",
        "    ttv: a tuple containing the fraction of train, test and val data. This will be normalized.\n",
        "    files: a tuple of filenames to write the splits into. An exception is raised if these exist.\n",
        "           You should delete them first.\n",
        "    seed: an integer for the random number generator seed\n",
        "\n",
        "    Returns the absolute path to files.\n",
        "    \"\"\"\n",
        "\n",
        "    for db in files:\n",
        "        if os.path.exists(db):\n",
        "            raise Exception('{db} exists. Please delete it before proceeding.')\n",
        "\n",
        "    src = connect(ase_db)\n",
        "    N = src.count()\n",
        "\n",
        "    ttv = np.array(ttv)\n",
        "    ttv /= ttv.sum()\n",
        "\n",
        "    train_end = int(N * ttv[0])\n",
        "    test_end = train_end + int(N * ttv[1])\n",
        "\n",
        "    train = connect(files[0])\n",
        "    test = connect(files[1])\n",
        "    val = connect(files[2])\n",
        "\n",
        "    ids = np.arange(1, N + 1)\n",
        "    rng = np.random.default_rng(seed=42)\n",
        "    rng.shuffle(ids)\n",
        "\n",
        "    for _id in ids[0:train_end]:\n",
        "        row = src.get(id=int(_id))\n",
        "        train.write(row.toatoms())\n",
        "\n",
        "    for _id in ids[train_end:test_end]:\n",
        "        row = src.get(id=int(_id))\n",
        "        test.write(row.toatoms())\n",
        "\n",
        "    for _id in ids[test_end:]:\n",
        "        row = src.get(id=int(_id))\n",
        "        val.write(row.toatoms())\n",
        "\n",
        "    return [Path(f).absolute() for f in files]"
      ]
    },
    {
      "cell_type": "code",
      "execution_count": null,
      "metadata": {
        "id": "TuCk8_1HxdES"
      },
      "outputs": [],
      "source": [
        "# @title\n",
        "from yaml import load, dump\n",
        "from yaml import CLoader as Loader, CDumper as Dumper\n",
        "import torch\n",
        "import os\n",
        "from ocpmodels.common.relaxation.ase_utils import OCPCalculator\n",
        "from io import StringIO\n",
        "import sys\n",
        "import contextlib\n",
        "\n",
        "def generate_yml_config(checkpoint_path, yml='run.yml', delete=(), update=()):\n",
        "    \"\"\"Generate a yml config file from an existing checkpoint file.\n",
        "\n",
        "    checkpoint_path: string to path of an existing checkpoint\n",
        "    yml: name of file to write to.\n",
        "    pop: list of keys to remove from the config\n",
        "    update: dictionary of key:values to update\n",
        "\n",
        "    Use a dot notation in update.\n",
        "\n",
        "    Returns an absolute path to the generated yml file.\n",
        "    \"\"\"\n",
        "\n",
        "    # You can't just read in the checkpoint with torch. The calculator does some things to it.\n",
        "    # Rather than recreate that here I just reuse the calculator machinery. I don't want to\n",
        "    # see the output though, so I capture it.\n",
        "\n",
        "    with contextlib.redirect_stdout(StringIO()) as _:\n",
        "        config = OCPCalculator(checkpoint_path=checkpoint_path).config # there seems an parameter checkpoint changed in OCPcalculator (s.choung)\n",
        "\n",
        "    for key in delete:\n",
        "        if key in config and len(key.split('.')) == 1:\n",
        "            del config[key]\n",
        "        else:\n",
        "            keys = key.split('.')\n",
        "            if keys[0] in config:\n",
        "                d = config[keys[0]]\n",
        "            else:\n",
        "                continue\n",
        "            if isinstance(d, dict):\n",
        "                for k in keys[1:]:\n",
        "                    if isinstance(d[k], dict):\n",
        "                        d = d[k]\n",
        "                    else:\n",
        "                        if k in d:\n",
        "                            del d[k]\n",
        "\n",
        "    def nested_set(dic, keys, value):\n",
        "        for key in keys[:-1]:\n",
        "            dic = dic.setdefault(key, {})\n",
        "        dic[keys[-1]] = value\n",
        "\n",
        "    for _key in update:\n",
        "        keys = _key.split('.')\n",
        "        nested_set(config, keys, update[_key])\n",
        "\n",
        "\n",
        "    out = dump(config)\n",
        "    with open(yml, 'wb') as f:\n",
        "        f.write(out.encode('utf-8'))\n",
        "\n",
        "    return Path(yml).absolute()"
      ]
    },
    {
      "cell_type": "code",
      "execution_count": null,
      "metadata": {
        "colab": {
          "base_uri": "https://localhost:8080/"
        },
        "id": "oQa3wmCE0WY_",
        "outputId": "6ba35fdc-8699-4aad-e2d4-9b9e0dd72b54"
      },
      "outputs": [
        {
          "output_type": "stream",
          "name": "stdout",
          "text": [
            "fatal: destination path 'Open-Catalyst-Dataset' already exists and is not an empty directory.\n",
            "Obtaining file:///content/ocp/Open-Catalyst-Dataset\n",
            "  Preparing metadata (setup.py) ... \u001b[?25l\u001b[?25hdone\n",
            "Installing collected packages: ocdata\n",
            "  Attempting uninstall: ocdata\n",
            "    Found existing installation: ocdata 0.2.0\n",
            "    Uninstalling ocdata-0.2.0:\n",
            "      Successfully uninstalled ocdata-0.2.0\n",
            "  Running setup.py develop for ocdata\n",
            "Successfully installed ocdata-0.2.0\n",
            "fatal: destination path 'Open-Catalyst-Dataset' already exists and is not an empty directory.\n",
            "/content/ocp/Open-Catalyst-Dataset/Open-Catalyst-Dataset\n"
          ]
        }
      ],
      "source": [
        "import locale\n",
        "locale.getpreferredencoding = lambda: \"UTF-8\"\n",
        "if not os.path.exists('tutorial'):\n",
        "     !git clone https://github.com/Open-Catalyst-Project/tutorial.git\n",
        "!git clone https://github.com/Open-Catalyst-Project/Open-Catalyst-Dataset.git\n",
        "\n",
        "!pip install -e ./Open-Catalyst-Dataset\n",
        "os.chdir('Open-Catalyst-Dataset')\n",
        "!git clone -b OC22_dataset https://github.com/Open-Catalyst-Project/Open-Catalyst-Dataset.git\n",
        "os.chdir('Open-Catalyst-Dataset')\n",
        "!pwd"
      ]
    },
    {
      "cell_type": "markdown",
      "source": [
        "### OC22 datageneration scheme으로 내 데이터셋 생성이 가능할까\n",
        "\n",
        "일담 보류 CPU로 전환.\n",
        "what im trying to do is generating SA datasets for SAC.\n",
        "#### 전략\n",
        "unary oxide들만 뽑아서 random하게 surface 만들고, adsorbate으로 metal 붙이기.\n"
      ],
      "metadata": {
        "id": "j6vNOFrEdS1b"
      }
    },
    {
      "cell_type": "code",
      "source": [
        "import json\n",
        "import unittest, sys, json, itertools, os\n",
        "# sys.path.append(os.getcwd().replace(os.getcwd().split('/')[-1], ''))\n",
        "from pymatgen.entries.computed_entries import ComputedStructureEntry\n",
        "from pymatgen.core.periodic_table import Element\n",
        "from pymatgen.analysis.phase_diagram import PhaseDiagram\n",
        "from pymatgen.analysis.structure_matcher import StructureMatcher\n",
        "from ocdata.oc22_dataset.adsorbate_configs import adslist, OOH_list\n",
        "\n",
        "\n",
        "json_file_path = \"ocdata/oc22_dataset/bulk_oxides_20220621.json\"\n",
        "with open(json_file_path, 'r') as f:\n",
        "    data = json.load(f)\n",
        "print(len(data))\n",
        "unary_list=[]\n",
        "for dat in data:\n",
        "  if len(dat['composition']) == 2:\n",
        "    print(dat['composition'])\n",
        "    #print(dat['entry_id'])\n",
        "    unary_list.append(dat)\n",
        "print(len(unary_list))\n",
        "\n",
        "elements_to_do = [el.symbol for el in Element if el.is_metal and el.number < 43 and 21 < el.number and el.group > 3 and el.group < 15]\n",
        "elements_to_do.extend(['Ce', 'Si', 'Al'])\n",
        "exclude_elements = ['Pb', 'Tl', 'Hg','Cd','Mg']  # Add the symbols of the elements you want to exclude\n",
        "elements_to_do = [el for el in elements_to_do if el not in exclude_elements]\n",
        "all_metal_name_list = [el.symbol for el in Element if el.is_metal and el.number < 80 and 25 < el.number and el.group > 6 and el.group < 12]\n",
        "exclude_elements_2 = ['Tc']  # Add the symbols of the elements you want to exclude\n",
        "all_metal_name_list = [el for el in all_metal_name_list if el not in exclude_elements_2]\n",
        "\n",
        "print(all_metal_name_list) # metal i considered for anchoring\n",
        "print(elements_to_do) # metal i considered for support\n",
        "\n",
        "screened_unary_list=[]\n",
        "for dat in unary_list:\n",
        "    composition = dat['composition']\n",
        "    element1, element2 = composition.keys()\n",
        "    # Check if both elements are metals with atomic number less than 84 and not in the 'f' block\n",
        "    if (element1 in elements_to_do) and (element2 == 'O'):\n",
        "        screened_unary_list.append(dat)\n",
        "\n",
        "print(f\"Number of unary : {len(unary_list)}\")\n",
        "print(f\"Number of unary after screening: {len(screened_unary_list)}\")\n",
        "\n",
        "screened_unary_list[0]\n",
        "for dat in screened_unary_list:\n",
        "    print(dat['composition'])\n",
        "\n",
        "output_file_path = \"./unary_list.json\"  # The path where you want to save the output JSON\n",
        "with open(output_file_path, 'w') as output_file:\n",
        "    json.dump(screened_unary_list, output_file)"
      ],
      "metadata": {
        "id": "nrFeqfVeCk5a"
      },
      "execution_count": null,
      "outputs": []
    },
    {
      "cell_type": "markdown",
      "source": [
        "Urary 저장 완료"
      ],
      "metadata": {
        "id": "fpSUv4SGLx2X"
      }
    },
    {
      "cell_type": "markdown",
      "source": [
        "이제 slab과 SAC을 담지시켜보자. random generation"
      ],
      "metadata": {
        "id": "E7G-200tObYn"
      }
    },
    {
      "cell_type": "markdown",
      "source": [
        "##  generating VASP input"
      ],
      "metadata": {
        "id": "E44Iv516QKKS"
      }
    },
    {
      "cell_type": "markdown",
      "source": [
        "I change the VASP setting like following from the code written by Kevin Tran https://github.com/Open-Catalyst-Project/Open-Catalyst-Dataset/blob/OC22_dataset/ocdata/vasp.py\n",
        "\n",
        "in the same inputs as codes written in OC22 and LWAVE deleted\n",
        "\n",
        "```\n",
        "ldau_luj = {\n",
        "    \"V\": {\"L\": 2, \"U\": 3.25, \"J\": 0},\n",
        "    \"Cr\": {\"L\": 2, \"U\": 3.7, \"J\": 0},\n",
        "    \"Mn\": {\"L\": 2, \"U\": 3.9, \"J\": 0},\n",
        "    \"Fe\": {\"L\": 2, \"U\": 5.3, \"J\": 0},\n",
        "    \"Co\": {\"L\": 2, \"U\": 3.32, \"J\": 0},\n",
        "    \"Ni\": {\"L\": 2, \"U\": 6.2, \"J\": 0},\n",
        "    \"Cu\": {\"L\": 2, \"U\": 4.0, \"J\": 0},\n",
        "    \"Mo\": {\"L\": 2, \"U\": 4.38, \"J\": 0},\n",
        "    \"W\":  {\"L\": 2, \"U\": 6.2, \"J\": 0}\n",
        "}\n",
        "# NOTE: this is the setting for slab and adslab\n",
        "VASP_FLAGS = {'ibrion': 2,\n",
        "            \"gga\": \"PE\",\n",
        "            \"encut\": 500,\n",
        "            \"ediff\": 1e-4,\n",
        "            \"ediffg\": -0.05,\n",
        "            \"isym\": 0,\n",
        "            \"symprec\": 1e-10,\n",
        "            \"ispin\": 2,\n",
        "            \"isif\": 0,\n",
        "            \"nsw\": 300,\n",
        "            \"lwave\": False,\n",
        "            \"ldau_luj\": ldau_luj\n",
        "        }\n",
        "```\n",
        "\n"
      ],
      "metadata": {
        "id": "gFV1lqvwQi7t"
      }
    },
    {
      "cell_type": "code",
      "source": [
        "from ocdata import vasp\n",
        "import importlib\n",
        "importlib.reload(vasp)\n"
      ],
      "metadata": {
        "colab": {
          "base_uri": "https://localhost:8080/"
        },
        "id": "e_uTuSXTQaCj",
        "outputId": "045d4653-4d15-449f-9ed5-698b05cf8fdc"
      },
      "execution_count": null,
      "outputs": [
        {
          "output_type": "execute_result",
          "data": {
            "text/plain": [
              "<module 'ocdata.vasp' from '/content/ocp/Open-Catalyst-Dataset/Open-Catalyst-Dataset/ocdata/vasp.py'>"
            ]
          },
          "metadata": {},
          "execution_count": 103
        }
      ]
    },
    {
      "cell_type": "code",
      "source": [
        "from ocdata.oc22_dataset.surface import Slab, SlabGenerator, generate_all_slabs\n",
        "from pymatgen.entries.computed_entries import ComputedStructureEntry\n",
        "import time\n",
        "import random\n",
        "\n",
        "json_file_path = \"unary_list.json\"\n",
        "all_pbx_stable_entries = [ComputedStructureEntry.from_dict(d) for d in \\\n",
        "                          json.load(open(json_file_path))]\n",
        "\n",
        "def generate_test_bulk(all_pbx_stable_entries):\n",
        "    entry = random.choice(all_pbx_stable_entries)  # Use random.choice to select a random entry\n",
        "    test_bulk = entry.structure\n",
        "    print('Bulk:',test_bulk.formula)  # You can remove this line if you don't want to print the result\n",
        "    return test_bulk\n",
        "\n",
        "def generate_random_sa_metal(all_metal_name_list):\n",
        "    entry = random.choice(all_metal_name_list)  # Use random.choice to select a random entry\n",
        "    sa = Molecule([entry], [[0, 0, 0]])\n",
        "    print('SA:',sa.formula)  # You can remove this line if you don't want to print the result\n",
        "    return sa"
      ],
      "metadata": {
        "id": "AHc4IKZGIzav"
      },
      "execution_count": null,
      "outputs": []
    },
    {
      "cell_type": "code",
      "source": [
        "o_ref = Molecule(['O'], [[0, 0, 0]])\n",
        "print(o_ref.species[0].atomic_radius)"
      ],
      "metadata": {
        "colab": {
          "base_uri": "https://localhost:8080/"
        },
        "id": "2SJcLPQYfG7Y",
        "outputId": "69123007-a931-4197-a59b-c447480b229a"
      },
      "execution_count": null,
      "outputs": [
        {
          "output_type": "stream",
          "name": "stdout",
          "text": [
            "0.6 ang\n"
          ]
        }
      ]
    },
    {
      "cell_type": "code",
      "source": [
        "from ocdata.oc22_dataset.MXide_adsorption import MXideAdsorbateGenerator\n",
        "from ocdata.oc22_dataset.termination_generator import get_random_clean_slabs\n",
        "from pymatgen.core.structure import Structure, Lattice, Molecule\n",
        "from pymatgen.io.ase import AseAtomsAdaptor\n",
        "from ase.constraints import FixAtoms\n",
        "from pymatgen.symmetry.analyzer import SpacegroupAnalyzer\n",
        "from ocdata import vasp\n",
        "import os\n",
        "from pymatgen.core.periodic_table import ElementBase\n",
        "\n",
        "out_directory = './output_500'\n",
        "out_directory_slab = './output_500/slab'\n",
        "out_directory_adslab = './output_500/adslab'\n",
        "os.makedirs(out_directory, exist_ok=True)\n",
        "os.makedirs(out_directory_adslab, exist_ok=True)\n",
        "os.makedirs(out_directory_slab, exist_ok=True)\n",
        "\n",
        "o_ref = Molecule(['O'], [[0, 0, 0]])\n",
        "o_ref_radii = o_ref.species[0].atomic_radius\n",
        "slab_list=[]\n",
        "adslab_list =[]\n",
        "def get_tol(bulk,SA):\n",
        "\n",
        "  sa_radius = SA.species[0].atomic_radius\n",
        "  elements = bulk.composition.elements\n",
        "  metal = [element for element in elements if element.name != 'O']\n",
        "  bulk_metal_radius = metal[0].atomic_radius\n",
        "  min_m_m_dist=sa_radius + bulk_metal_radius\n",
        "  min_m_o_dist=o_ref_radii+sa_radius\n",
        "  tol=min_m_m_dist/min_m_o_dist\n",
        "  print(tol)\n",
        "  return tol\n",
        "\n",
        "count = 0\n",
        "total_suf_sa_num = 300 # total_suf_sa_num\n",
        "\n",
        "while count < total_suf_sa_num:\n",
        "\n",
        "  bulk = generate_test_bulk(all_pbx_stable_entries)\n",
        "  SA = generate_random_sa_metal(all_metal_name_list)\n",
        "  slab_start = time.time()\n",
        "  random_slab=get_random_clean_slabs(bulk, 1, 1, 6, 15, lll_reduce=False, in_unit_planes=False, primitive=False,\n",
        "                            max_normal_search=None, min_lw=8.0, xsite='O', height=0.9,\n",
        "                            r=None, max_ssize=80, check_polar=True) # bulk, n_slabs, max_index, min_slab_size\n",
        "  if not random_slab:\n",
        "      print('NO VIABLE CLEAN SLABS')\n",
        "      continue\n",
        "  slab_end = time.time()\n",
        "  print('Sampled %s clean slabs in %.3f' % (random_slab[0].formula, slab_end-slab_start))\n",
        "  ads_start = time.time()\n",
        "  # now get random adsorbed slabs\n",
        "  rand_slab= random.choice(random_slab)\n",
        "  mxide_adsgen = MXideAdsorbateGenerator(random_slab[0], height=1.25, tol=2, ads_dist_is_blength=False, ads_dist=4,)\n",
        "  adslab=mxide_adsgen.generate_random_adsorption_structure(SA, 1, max_coverage=1)\n",
        "  if not adslab:\n",
        "      print('NO VIABLE adslab')\n",
        "      continue\n",
        "  #################### ASE format and fix atom ############\n",
        "  ase_adslab=AseAtomsAdaptor.get_atoms(adslab[0])\n",
        "  z_positions=[atom.position[2] for atom in ase_adslab]\n",
        "  c = FixAtoms(indices=[atom.index for atom in ase_adslab if atom.position[2] <np.median(z_positions)])\n",
        "  ase_adslab.set_constraint(c)\n",
        "  #########################################################\n",
        "  ase_slab=AseAtomsAdaptor.get_atoms(random_slab[0])\n",
        "  ase_slab_z_positions=[atom.position[2] for atom in ase_slab]\n",
        "  c = FixAtoms(indices=[atom.index for atom in ase_slab if atom.position[2] <np.median(ase_slab_z_positions)])\n",
        "  ase_slab.set_constraint(c)\n",
        "  #########################################################\n",
        "\n",
        "  #visual(ase_adslab, './', (300, 300),2)\n",
        "  subdirectory = f'{count}'\n",
        "  out_directory_adslab\n",
        "  adslab_subdir_path = os.path.join(out_directory_adslab, subdirectory)\n",
        "  slab_subdir_path = os.path.join(out_directory_slab, subdirectory)\n",
        "  os.makedirs(adslab_subdir_path, exist_ok=True)\n",
        "  os.makedirs(slab_subdir_path, exist_ok=True)\n",
        "  vasp.write_vasp_input_files(ase_adslab, outdir=adslab_subdir_path, vasp_flags=None)\n",
        "  vasp.write_vasp_input_files(ase_slab, outdir=slab_subdir_path, vasp_flags=None)\n",
        "\n",
        "  ads_end=time.time()\n",
        "\n",
        "  print(f'saved{count} out of 300 in {slab_end-slab_start}')\n",
        "  slab_list.append(ase_slab)\n",
        "  adslab_list.append(ase_adslab)\n",
        "\n",
        "  count= count + 1\n"
      ],
      "metadata": {
        "id": "LvbQo35nJCiA"
      },
      "execution_count": null,
      "outputs": []
    },
    {
      "cell_type": "markdown",
      "source": [
        "### 이제 다운로드 받고, gemnet으로 돌려보기"
      ],
      "metadata": {
        "id": "AxToOJyBIu_C"
      }
    },
    {
      "cell_type": "code",
      "source": [
        "!zip -r output_300.zip output_500"
      ],
      "metadata": {
        "id": "-PqVfWk0BzmS"
      },
      "execution_count": null,
      "outputs": []
    },
    {
      "cell_type": "code",
      "source": [
        "from ase.io import Trajectory, write\n",
        "write('./output_ase/adslab_list.traj',adslab_list)\n",
        "write('./output_ase/slab_list.traj',slab_list)"
      ],
      "metadata": {
        "id": "qNPkQBRKCvVJ"
      },
      "execution_count": null,
      "outputs": []
    },
    {
      "cell_type": "code",
      "source": [
        "!zip -r output_ase_before_relax.zip output_ase"
      ],
      "metadata": {
        "colab": {
          "base_uri": "https://localhost:8080/"
        },
        "id": "0BtQDZRIEWYC",
        "outputId": "b7d04ac5-1823-41c3-907d-38239d1f5c36"
      },
      "execution_count": null,
      "outputs": [
        {
          "output_type": "stream",
          "name": "stdout",
          "text": [
            "  adding: output_ase/ (stored 0%)\n",
            "  adding: output_ase/slab_list.traj (deflated 75%)\n",
            "  adding: output_ase/adslab_list.traj (deflated 75%)\n"
          ]
        }
      ]
    },
    {
      "cell_type": "code",
      "source": [
        "gemnet = get_checkpoint('GemNet-OC OC20+OC22')\n",
        "from ocpmodels.common.relaxation.ase_utils import OCPCalculator\n",
        "calc = OCPCalculator(checkpoint_path=os.path.expanduser(gemnet), cpu=True)"
      ],
      "metadata": {
        "colab": {
          "base_uri": "https://localhost:8080/"
        },
        "id": "LinDY52jCfer",
        "outputId": "95a9fffa-5883-42a1-f7eb-fe376fff369e"
      },
      "execution_count": null,
      "outputs": [
        {
          "output_type": "stream",
          "name": "stderr",
          "text": [
            "WARNING:root:Unable to identify OCP trainer, defaulting to `forces`. Specify the `trainer` argument into OCPCalculator if otherwise.\n",
            "/usr/local/lib/python3.10/dist-packages/torch/cuda/amp/grad_scaler.py:125: UserWarning: torch.cuda.amp.GradScaler is enabled, but CUDA is not available.  Disabling.\n",
            "  warnings.warn(\n",
            "WARNING:root:Unrecognized arguments: ['symmetric_edge_symmetrization']\n"
          ]
        }
      ]
    },
    {
      "cell_type": "code",
      "source": [
        "!cp -r output_300.zip /content/drive/MyDrive/sa_generation_1029"
      ],
      "metadata": {
        "id": "LAr6PpxyFOwT"
      },
      "execution_count": null,
      "outputs": []
    },
    {
      "cell_type": "code",
      "source": [
        "!cp -r output_ase /content/drive/MyDrive/sa_generation_1029"
      ],
      "metadata": {
        "id": "al6e-_5lFu0Y"
      },
      "execution_count": null,
      "outputs": []
    },
    {
      "cell_type": "code",
      "source": [
        "from ase.optimize import LBFGS\n",
        "from ase.build import fcc111, molecule, add_adsorbate\n",
        "from ase.constraints import ExpCellFilter, StrainFilter\n",
        "\n",
        "def energy_cal(atoms, fmax=0.05):\n",
        "    atoms.set_calculator(calc)\n",
        "    tags = np.ones(len(atoms))\n",
        "    atoms.set_tags(tags)\n",
        "    print(tags)\n",
        "    opt1 = LBFGS(atoms)\n",
        "    opt1.run(fmax=fmax)\n",
        "    return atoms.get_total_energy()\n",
        "def status(proceed):\n",
        "    num = int(proceed/5)\n",
        "    return '🟩'*num+'⬜️'*(20-num)\n",
        "def oc_calculator(data, fmax_ref, calculator):\n",
        "    E_tot_list=[]\n",
        "    for i, d in enumerate(data):\n",
        "        print('<<<<<<<<<<<<<<<<<<<<<<<<<<<<<', i+1, ' out of ', len(data), '>>>>>>>>>>>>>>>>>>>>>>>>>>>>')\n",
        "        E_tot = energy_cal(d, fmax=fmax_ref)\n",
        "        E_tot_list.append(round(E_tot, 3))\n",
        "        proceed = round((i+1) / len(data) * 100, 2)\n",
        "        print(status(proceed), proceed, '% done')\n",
        "    return E_tot_list\n",
        "\n",
        "e_adslab_tot=oc_calculator(adslab_list,0.05,calc)\n",
        "e_slab_tot=oc_calculator(slab_list,0.05,calc)"
      ],
      "metadata": {
        "colab": {
          "base_uri": "https://localhost:8080/",
          "height": 979
        },
        "id": "7G5Z0vM-BmAL",
        "outputId": "9f16860e-894b-490b-9095-07b42c5d9669"
      },
      "execution_count": null,
      "outputs": [
        {
          "output_type": "stream",
          "name": "stdout",
          "text": [
            "<<<<<<<<<<<<<<<<<<<<<<<<<<<<< 1  out of  300 >>>>>>>>>>>>>>>>>>>>>>>>>>>>\n",
            "[1. 1. 1. 1. 1. 1. 1. 1. 1. 1. 1. 1. 1. 1. 1. 1. 1. 1. 1. 1. 1. 1. 1. 1.\n",
            " 1. 1. 1. 1. 1. 1. 1. 1. 1. 1. 1. 1. 1. 1. 1. 1. 1. 1. 1. 1. 1. 1. 1. 1.\n",
            " 1. 1. 1. 1. 1. 1. 1. 1. 1. 1. 1. 1. 1. 1. 1. 1. 1. 1. 1. 1. 1. 1. 1. 1.\n",
            " 1.]\n"
          ]
        },
        {
          "output_type": "stream",
          "name": "stderr",
          "text": [
            "/usr/local/lib/python3.10/dist-packages/torch/amp/autocast_mode.py:250: UserWarning: User provided device_type of 'cuda', but CUDA is not available. Disabling\n",
            "  warnings.warn(\n"
          ]
        },
        {
          "output_type": "stream",
          "name": "stdout",
          "text": [
            "       Step     Time          Energy         fmax\n",
            "LBFGS:    0 10:54:20     -332.383453        2.9147\n",
            "LBFGS:    1 10:54:22     -332.986115        2.3258\n",
            "LBFGS:    2 10:54:23     -333.911957        5.1333\n",
            "LBFGS:    3 10:54:24     -334.466675        0.9354\n",
            "LBFGS:    4 10:54:26     -334.632965        0.6657\n",
            "LBFGS:    5 10:54:28     -334.735901        0.8263\n",
            "LBFGS:    6 10:54:30     -334.732300        0.5414\n",
            "LBFGS:    7 10:54:32     -334.798004        0.5122\n",
            "LBFGS:    8 10:54:33     -334.850067        0.3800\n",
            "LBFGS:    9 10:54:35     -334.923401        0.3248\n",
            "LBFGS:   10 10:54:36     -334.971649        0.3983\n",
            "LBFGS:   11 10:54:38     -335.069000        0.3648\n",
            "LBFGS:   12 10:54:39     -335.118927        0.2740\n",
            "LBFGS:   13 10:54:40     -335.172363        0.2795\n",
            "LBFGS:   14 10:54:42     -335.235168        0.3010\n",
            "LBFGS:   15 10:54:44     -335.284302        0.3595\n",
            "LBFGS:   16 10:54:45     -335.307678        0.3503\n",
            "LBFGS:   17 10:54:47     -335.287537        0.2767\n",
            "LBFGS:   18 10:54:49     -335.302277        0.3091\n",
            "LBFGS:   19 10:54:51     -335.316803        0.3162\n",
            "LBFGS:   20 10:54:52     -335.288788        0.2604\n",
            "LBFGS:   21 10:54:54     -335.227234        0.2257\n",
            "LBFGS:   22 10:54:55     -335.214905        0.2624\n",
            "LBFGS:   23 10:54:56     -335.211548        0.2999\n",
            "LBFGS:   24 10:54:58     -335.205505        0.2627\n",
            "LBFGS:   25 10:54:59     -335.225372        0.1933\n",
            "LBFGS:   26 10:55:00     -335.262329        0.3053\n"
          ]
        },
        {
          "output_type": "error",
          "ename": "KeyboardInterrupt",
          "evalue": "ignored",
          "traceback": [
            "\u001b[0;31m---------------------------------------------------------------------------\u001b[0m",
            "\u001b[0;31mKeyboardInterrupt\u001b[0m                         Traceback (most recent call last)",
            "\u001b[0;32m<ipython-input-132-964a32d583d6>\u001b[0m in \u001b[0;36m<cell line: 14>\u001b[0;34m()\u001b[0m\n\u001b[1;32m     12\u001b[0m     \u001b[0;32mreturn\u001b[0m \u001b[0mE_tot_list\u001b[0m\u001b[0;34m\u001b[0m\u001b[0;34m\u001b[0m\u001b[0m\n\u001b[1;32m     13\u001b[0m \u001b[0;34m\u001b[0m\u001b[0m\n\u001b[0;32m---> 14\u001b[0;31m \u001b[0me_adslab_tot\u001b[0m\u001b[0;34m=\u001b[0m\u001b[0moc_calculator\u001b[0m\u001b[0;34m(\u001b[0m\u001b[0madslab_list\u001b[0m\u001b[0;34m,\u001b[0m\u001b[0;36m0.05\u001b[0m\u001b[0;34m,\u001b[0m\u001b[0mcalc\u001b[0m\u001b[0;34m)\u001b[0m\u001b[0;34m\u001b[0m\u001b[0;34m\u001b[0m\u001b[0m\n\u001b[0m\u001b[1;32m     15\u001b[0m \u001b[0me_slab_tot\u001b[0m\u001b[0;34m=\u001b[0m\u001b[0moc_calculator\u001b[0m\u001b[0;34m(\u001b[0m\u001b[0mslab_list\u001b[0m\u001b[0;34m,\u001b[0m\u001b[0;36m0.05\u001b[0m\u001b[0;34m,\u001b[0m\u001b[0mcalc\u001b[0m\u001b[0;34m)\u001b[0m\u001b[0;34m\u001b[0m\u001b[0;34m\u001b[0m\u001b[0m\n",
            "\u001b[0;32m<ipython-input-132-964a32d583d6>\u001b[0m in \u001b[0;36moc_calculator\u001b[0;34m(data, fmax_ref, calculator)\u001b[0m\n\u001b[1;32m      6\u001b[0m     \u001b[0;32mfor\u001b[0m \u001b[0mi\u001b[0m\u001b[0;34m,\u001b[0m \u001b[0md\u001b[0m \u001b[0;32min\u001b[0m \u001b[0menumerate\u001b[0m\u001b[0;34m(\u001b[0m\u001b[0mdata\u001b[0m\u001b[0;34m)\u001b[0m\u001b[0;34m:\u001b[0m\u001b[0;34m\u001b[0m\u001b[0;34m\u001b[0m\u001b[0m\n\u001b[1;32m      7\u001b[0m         \u001b[0mprint\u001b[0m\u001b[0;34m(\u001b[0m\u001b[0;34m'<<<<<<<<<<<<<<<<<<<<<<<<<<<<<'\u001b[0m\u001b[0;34m,\u001b[0m \u001b[0mi\u001b[0m\u001b[0;34m+\u001b[0m\u001b[0;36m1\u001b[0m\u001b[0;34m,\u001b[0m \u001b[0;34m' out of '\u001b[0m\u001b[0;34m,\u001b[0m \u001b[0mlen\u001b[0m\u001b[0;34m(\u001b[0m\u001b[0mdata\u001b[0m\u001b[0;34m)\u001b[0m\u001b[0;34m,\u001b[0m \u001b[0;34m'>>>>>>>>>>>>>>>>>>>>>>>>>>>>'\u001b[0m\u001b[0;34m)\u001b[0m\u001b[0;34m\u001b[0m\u001b[0;34m\u001b[0m\u001b[0m\n\u001b[0;32m----> 8\u001b[0;31m         \u001b[0mE_tot\u001b[0m \u001b[0;34m=\u001b[0m \u001b[0menergy_cal\u001b[0m\u001b[0;34m(\u001b[0m\u001b[0md\u001b[0m\u001b[0;34m,\u001b[0m \u001b[0mfmax\u001b[0m\u001b[0;34m=\u001b[0m\u001b[0mfmax_ref\u001b[0m\u001b[0;34m)\u001b[0m\u001b[0;34m\u001b[0m\u001b[0;34m\u001b[0m\u001b[0m\n\u001b[0m\u001b[1;32m      9\u001b[0m         \u001b[0mE_tot_list\u001b[0m\u001b[0;34m.\u001b[0m\u001b[0mappend\u001b[0m\u001b[0;34m(\u001b[0m\u001b[0mround\u001b[0m\u001b[0;34m(\u001b[0m\u001b[0mE_tot\u001b[0m\u001b[0;34m,\u001b[0m \u001b[0;36m3\u001b[0m\u001b[0;34m)\u001b[0m\u001b[0;34m)\u001b[0m\u001b[0;34m\u001b[0m\u001b[0;34m\u001b[0m\u001b[0m\n\u001b[1;32m     10\u001b[0m         \u001b[0mproceed\u001b[0m \u001b[0;34m=\u001b[0m \u001b[0mround\u001b[0m\u001b[0;34m(\u001b[0m\u001b[0;34m(\u001b[0m\u001b[0mi\u001b[0m\u001b[0;34m+\u001b[0m\u001b[0;36m1\u001b[0m\u001b[0;34m)\u001b[0m \u001b[0;34m/\u001b[0m \u001b[0mlen\u001b[0m\u001b[0;34m(\u001b[0m\u001b[0mdata\u001b[0m\u001b[0;34m)\u001b[0m \u001b[0;34m*\u001b[0m \u001b[0;36m100\u001b[0m\u001b[0;34m,\u001b[0m \u001b[0;36m2\u001b[0m\u001b[0;34m)\u001b[0m\u001b[0;34m\u001b[0m\u001b[0;34m\u001b[0m\u001b[0m\n",
            "\u001b[0;32m<ipython-input-129-9e682245b3e6>\u001b[0m in \u001b[0;36menergy_cal\u001b[0;34m(atoms, fmax)\u001b[0m\n\u001b[1;32m      9\u001b[0m     \u001b[0mprint\u001b[0m\u001b[0;34m(\u001b[0m\u001b[0mtags\u001b[0m\u001b[0;34m)\u001b[0m\u001b[0;34m\u001b[0m\u001b[0;34m\u001b[0m\u001b[0m\n\u001b[1;32m     10\u001b[0m     \u001b[0mopt1\u001b[0m \u001b[0;34m=\u001b[0m \u001b[0mLBFGS\u001b[0m\u001b[0;34m(\u001b[0m\u001b[0matoms\u001b[0m\u001b[0;34m)\u001b[0m\u001b[0;34m\u001b[0m\u001b[0;34m\u001b[0m\u001b[0m\n\u001b[0;32m---> 11\u001b[0;31m     \u001b[0mopt1\u001b[0m\u001b[0;34m.\u001b[0m\u001b[0mrun\u001b[0m\u001b[0;34m(\u001b[0m\u001b[0mfmax\u001b[0m\u001b[0;34m=\u001b[0m\u001b[0mfmax\u001b[0m\u001b[0;34m)\u001b[0m\u001b[0;34m\u001b[0m\u001b[0;34m\u001b[0m\u001b[0m\n\u001b[0m\u001b[1;32m     12\u001b[0m     \u001b[0;32mreturn\u001b[0m \u001b[0matoms\u001b[0m\u001b[0;34m.\u001b[0m\u001b[0mget_total_energy\u001b[0m\u001b[0;34m(\u001b[0m\u001b[0;34m)\u001b[0m\u001b[0;34m\u001b[0m\u001b[0;34m\u001b[0m\u001b[0m\n",
            "\u001b[0;32m/usr/local/lib/python3.10/dist-packages/ase/optimize/optimize.py\u001b[0m in \u001b[0;36mrun\u001b[0;34m(self, fmax, steps)\u001b[0m\n\u001b[1;32m    267\u001b[0m         \u001b[0;32mif\u001b[0m \u001b[0msteps\u001b[0m\u001b[0;34m:\u001b[0m\u001b[0;34m\u001b[0m\u001b[0;34m\u001b[0m\u001b[0m\n\u001b[1;32m    268\u001b[0m             \u001b[0mself\u001b[0m\u001b[0;34m.\u001b[0m\u001b[0mmax_steps\u001b[0m \u001b[0;34m=\u001b[0m \u001b[0msteps\u001b[0m\u001b[0;34m\u001b[0m\u001b[0;34m\u001b[0m\u001b[0m\n\u001b[0;32m--> 269\u001b[0;31m         \u001b[0;32mreturn\u001b[0m \u001b[0mDynamics\u001b[0m\u001b[0;34m.\u001b[0m\u001b[0mrun\u001b[0m\u001b[0;34m(\u001b[0m\u001b[0mself\u001b[0m\u001b[0;34m)\u001b[0m\u001b[0;34m\u001b[0m\u001b[0;34m\u001b[0m\u001b[0m\n\u001b[0m\u001b[1;32m    270\u001b[0m \u001b[0;34m\u001b[0m\u001b[0m\n\u001b[1;32m    271\u001b[0m     \u001b[0;32mdef\u001b[0m \u001b[0mconverged\u001b[0m\u001b[0;34m(\u001b[0m\u001b[0mself\u001b[0m\u001b[0;34m,\u001b[0m \u001b[0mforces\u001b[0m\u001b[0;34m=\u001b[0m\u001b[0;32mNone\u001b[0m\u001b[0;34m)\u001b[0m\u001b[0;34m:\u001b[0m\u001b[0;34m\u001b[0m\u001b[0;34m\u001b[0m\u001b[0m\n",
            "\u001b[0;32m/usr/local/lib/python3.10/dist-packages/ase/optimize/optimize.py\u001b[0m in \u001b[0;36mrun\u001b[0;34m(self)\u001b[0m\n\u001b[1;32m    154\u001b[0m         *steps*.\"\"\"\n\u001b[1;32m    155\u001b[0m \u001b[0;34m\u001b[0m\u001b[0m\n\u001b[0;32m--> 156\u001b[0;31m         \u001b[0;32mfor\u001b[0m \u001b[0mconverged\u001b[0m \u001b[0;32min\u001b[0m \u001b[0mDynamics\u001b[0m\u001b[0;34m.\u001b[0m\u001b[0mirun\u001b[0m\u001b[0;34m(\u001b[0m\u001b[0mself\u001b[0m\u001b[0;34m)\u001b[0m\u001b[0;34m:\u001b[0m\u001b[0;34m\u001b[0m\u001b[0;34m\u001b[0m\u001b[0m\n\u001b[0m\u001b[1;32m    157\u001b[0m             \u001b[0;32mpass\u001b[0m\u001b[0;34m\u001b[0m\u001b[0;34m\u001b[0m\u001b[0m\n\u001b[1;32m    158\u001b[0m         \u001b[0;32mreturn\u001b[0m \u001b[0mconverged\u001b[0m\u001b[0;34m\u001b[0m\u001b[0;34m\u001b[0m\u001b[0m\n",
            "\u001b[0;32m/usr/local/lib/python3.10/dist-packages/ase/optimize/optimize.py\u001b[0m in \u001b[0;36mirun\u001b[0;34m(self)\u001b[0m\n\u001b[1;32m    141\u001b[0m \u001b[0;34m\u001b[0m\u001b[0m\n\u001b[1;32m    142\u001b[0m             \u001b[0;31m# log the step\u001b[0m\u001b[0;34m\u001b[0m\u001b[0;34m\u001b[0m\u001b[0m\n\u001b[0;32m--> 143\u001b[0;31m             \u001b[0mself\u001b[0m\u001b[0;34m.\u001b[0m\u001b[0mlog\u001b[0m\u001b[0;34m(\u001b[0m\u001b[0;34m)\u001b[0m\u001b[0;34m\u001b[0m\u001b[0;34m\u001b[0m\u001b[0m\n\u001b[0m\u001b[1;32m    144\u001b[0m             \u001b[0mself\u001b[0m\u001b[0;34m.\u001b[0m\u001b[0mcall_observers\u001b[0m\u001b[0;34m(\u001b[0m\u001b[0;34m)\u001b[0m\u001b[0;34m\u001b[0m\u001b[0;34m\u001b[0m\u001b[0m\n\u001b[1;32m    145\u001b[0m \u001b[0;34m\u001b[0m\u001b[0m\n",
            "\u001b[0;32m/usr/local/lib/python3.10/dist-packages/ase/optimize/optimize.py\u001b[0m in \u001b[0;36mlog\u001b[0;34m(self, forces)\u001b[0m\n\u001b[1;32m    281\u001b[0m     \u001b[0;32mdef\u001b[0m \u001b[0mlog\u001b[0m\u001b[0;34m(\u001b[0m\u001b[0mself\u001b[0m\u001b[0;34m,\u001b[0m \u001b[0mforces\u001b[0m\u001b[0;34m=\u001b[0m\u001b[0;32mNone\u001b[0m\u001b[0;34m)\u001b[0m\u001b[0;34m:\u001b[0m\u001b[0;34m\u001b[0m\u001b[0;34m\u001b[0m\u001b[0m\n\u001b[1;32m    282\u001b[0m         \u001b[0;32mif\u001b[0m \u001b[0mforces\u001b[0m \u001b[0;32mis\u001b[0m \u001b[0;32mNone\u001b[0m\u001b[0;34m:\u001b[0m\u001b[0;34m\u001b[0m\u001b[0;34m\u001b[0m\u001b[0m\n\u001b[0;32m--> 283\u001b[0;31m             \u001b[0mforces\u001b[0m \u001b[0;34m=\u001b[0m \u001b[0mself\u001b[0m\u001b[0;34m.\u001b[0m\u001b[0matoms\u001b[0m\u001b[0;34m.\u001b[0m\u001b[0mget_forces\u001b[0m\u001b[0;34m(\u001b[0m\u001b[0;34m)\u001b[0m\u001b[0;34m\u001b[0m\u001b[0;34m\u001b[0m\u001b[0m\n\u001b[0m\u001b[1;32m    284\u001b[0m         \u001b[0mfmax\u001b[0m \u001b[0;34m=\u001b[0m \u001b[0msqrt\u001b[0m\u001b[0;34m(\u001b[0m\u001b[0;34m(\u001b[0m\u001b[0mforces\u001b[0m \u001b[0;34m**\u001b[0m \u001b[0;36m2\u001b[0m\u001b[0;34m)\u001b[0m\u001b[0;34m.\u001b[0m\u001b[0msum\u001b[0m\u001b[0;34m(\u001b[0m\u001b[0maxis\u001b[0m\u001b[0;34m=\u001b[0m\u001b[0;36m1\u001b[0m\u001b[0;34m)\u001b[0m\u001b[0;34m.\u001b[0m\u001b[0mmax\u001b[0m\u001b[0;34m(\u001b[0m\u001b[0;34m)\u001b[0m\u001b[0;34m)\u001b[0m\u001b[0;34m\u001b[0m\u001b[0;34m\u001b[0m\u001b[0m\n\u001b[1;32m    285\u001b[0m         e = self.atoms.get_potential_energy(\n",
            "\u001b[0;32m/usr/local/lib/python3.10/dist-packages/ase/atoms.py\u001b[0m in \u001b[0;36mget_forces\u001b[0;34m(self, apply_constraint, md)\u001b[0m\n\u001b[1;32m    786\u001b[0m         \u001b[0;32mif\u001b[0m \u001b[0mself\u001b[0m\u001b[0;34m.\u001b[0m\u001b[0m_calc\u001b[0m \u001b[0;32mis\u001b[0m \u001b[0;32mNone\u001b[0m\u001b[0;34m:\u001b[0m\u001b[0;34m\u001b[0m\u001b[0;34m\u001b[0m\u001b[0m\n\u001b[1;32m    787\u001b[0m             \u001b[0;32mraise\u001b[0m \u001b[0mRuntimeError\u001b[0m\u001b[0;34m(\u001b[0m\u001b[0;34m'Atoms object has no calculator.'\u001b[0m\u001b[0;34m)\u001b[0m\u001b[0;34m\u001b[0m\u001b[0;34m\u001b[0m\u001b[0m\n\u001b[0;32m--> 788\u001b[0;31m         \u001b[0mforces\u001b[0m \u001b[0;34m=\u001b[0m \u001b[0mself\u001b[0m\u001b[0;34m.\u001b[0m\u001b[0m_calc\u001b[0m\u001b[0;34m.\u001b[0m\u001b[0mget_forces\u001b[0m\u001b[0;34m(\u001b[0m\u001b[0mself\u001b[0m\u001b[0;34m)\u001b[0m\u001b[0;34m\u001b[0m\u001b[0;34m\u001b[0m\u001b[0m\n\u001b[0m\u001b[1;32m    789\u001b[0m \u001b[0;34m\u001b[0m\u001b[0m\n\u001b[1;32m    790\u001b[0m         \u001b[0;32mif\u001b[0m \u001b[0mapply_constraint\u001b[0m\u001b[0;34m:\u001b[0m\u001b[0;34m\u001b[0m\u001b[0;34m\u001b[0m\u001b[0m\n",
            "\u001b[0;32m/usr/local/lib/python3.10/dist-packages/ase/calculators/abc.py\u001b[0m in \u001b[0;36mget_forces\u001b[0;34m(self, atoms)\u001b[0m\n\u001b[1;32m     21\u001b[0m \u001b[0;34m\u001b[0m\u001b[0m\n\u001b[1;32m     22\u001b[0m     \u001b[0;32mdef\u001b[0m \u001b[0mget_forces\u001b[0m\u001b[0;34m(\u001b[0m\u001b[0mself\u001b[0m\u001b[0;34m,\u001b[0m \u001b[0matoms\u001b[0m\u001b[0;34m=\u001b[0m\u001b[0;32mNone\u001b[0m\u001b[0;34m)\u001b[0m\u001b[0;34m:\u001b[0m\u001b[0;34m\u001b[0m\u001b[0;34m\u001b[0m\u001b[0m\n\u001b[0;32m---> 23\u001b[0;31m         \u001b[0;32mreturn\u001b[0m \u001b[0mself\u001b[0m\u001b[0;34m.\u001b[0m\u001b[0mget_property\u001b[0m\u001b[0;34m(\u001b[0m\u001b[0;34m'forces'\u001b[0m\u001b[0;34m,\u001b[0m \u001b[0matoms\u001b[0m\u001b[0;34m)\u001b[0m\u001b[0;34m\u001b[0m\u001b[0;34m\u001b[0m\u001b[0m\n\u001b[0m\u001b[1;32m     24\u001b[0m \u001b[0;34m\u001b[0m\u001b[0m\n\u001b[1;32m     25\u001b[0m     \u001b[0;32mdef\u001b[0m \u001b[0mget_stress\u001b[0m\u001b[0;34m(\u001b[0m\u001b[0mself\u001b[0m\u001b[0;34m,\u001b[0m \u001b[0matoms\u001b[0m\u001b[0;34m=\u001b[0m\u001b[0;32mNone\u001b[0m\u001b[0;34m)\u001b[0m\u001b[0;34m:\u001b[0m\u001b[0;34m\u001b[0m\u001b[0;34m\u001b[0m\u001b[0m\n",
            "\u001b[0;32m/usr/local/lib/python3.10/dist-packages/ase/calculators/calculator.py\u001b[0m in \u001b[0;36mget_property\u001b[0;34m(self, name, atoms, allow_calculation)\u001b[0m\n\u001b[1;32m    735\u001b[0m             \u001b[0;32mif\u001b[0m \u001b[0;32mnot\u001b[0m \u001b[0mallow_calculation\u001b[0m\u001b[0;34m:\u001b[0m\u001b[0;34m\u001b[0m\u001b[0;34m\u001b[0m\u001b[0m\n\u001b[1;32m    736\u001b[0m                 \u001b[0;32mreturn\u001b[0m \u001b[0;32mNone\u001b[0m\u001b[0;34m\u001b[0m\u001b[0;34m\u001b[0m\u001b[0m\n\u001b[0;32m--> 737\u001b[0;31m             \u001b[0mself\u001b[0m\u001b[0;34m.\u001b[0m\u001b[0mcalculate\u001b[0m\u001b[0;34m(\u001b[0m\u001b[0matoms\u001b[0m\u001b[0;34m,\u001b[0m \u001b[0;34m[\u001b[0m\u001b[0mname\u001b[0m\u001b[0;34m]\u001b[0m\u001b[0;34m,\u001b[0m \u001b[0msystem_changes\u001b[0m\u001b[0;34m)\u001b[0m\u001b[0;34m\u001b[0m\u001b[0;34m\u001b[0m\u001b[0m\n\u001b[0m\u001b[1;32m    738\u001b[0m \u001b[0;34m\u001b[0m\u001b[0m\n\u001b[1;32m    739\u001b[0m         \u001b[0;32mif\u001b[0m \u001b[0mname\u001b[0m \u001b[0;32mnot\u001b[0m \u001b[0;32min\u001b[0m \u001b[0mself\u001b[0m\u001b[0;34m.\u001b[0m\u001b[0mresults\u001b[0m\u001b[0;34m:\u001b[0m\u001b[0;34m\u001b[0m\u001b[0;34m\u001b[0m\u001b[0m\n",
            "\u001b[0;32m/content/ocp/ocpmodels/common/relaxation/ase_utils.py\u001b[0m in \u001b[0;36mcalculate\u001b[0;34m(self, atoms, properties, system_changes)\u001b[0m\n\u001b[1;32m    209\u001b[0m         \u001b[0mbatch\u001b[0m \u001b[0;34m=\u001b[0m \u001b[0mdata_list_collater\u001b[0m\u001b[0;34m(\u001b[0m\u001b[0;34m[\u001b[0m\u001b[0mdata_object\u001b[0m\u001b[0;34m]\u001b[0m\u001b[0;34m,\u001b[0m \u001b[0motf_graph\u001b[0m\u001b[0;34m=\u001b[0m\u001b[0;32mTrue\u001b[0m\u001b[0;34m)\u001b[0m\u001b[0;34m\u001b[0m\u001b[0;34m\u001b[0m\u001b[0m\n\u001b[1;32m    210\u001b[0m \u001b[0;34m\u001b[0m\u001b[0m\n\u001b[0;32m--> 211\u001b[0;31m         predictions = self.trainer.predict(\n\u001b[0m\u001b[1;32m    212\u001b[0m             \u001b[0mbatch\u001b[0m\u001b[0;34m,\u001b[0m \u001b[0mper_image\u001b[0m\u001b[0;34m=\u001b[0m\u001b[0;32mFalse\u001b[0m\u001b[0;34m,\u001b[0m \u001b[0mdisable_tqdm\u001b[0m\u001b[0;34m=\u001b[0m\u001b[0;32mTrue\u001b[0m\u001b[0;34m\u001b[0m\u001b[0;34m\u001b[0m\u001b[0m\n\u001b[1;32m    213\u001b[0m         )\n",
            "\u001b[0;32m/usr/local/lib/python3.10/dist-packages/torch/utils/_contextlib.py\u001b[0m in \u001b[0;36mdecorate_context\u001b[0;34m(*args, **kwargs)\u001b[0m\n\u001b[1;32m    113\u001b[0m     \u001b[0;32mdef\u001b[0m \u001b[0mdecorate_context\u001b[0m\u001b[0;34m(\u001b[0m\u001b[0;34m*\u001b[0m\u001b[0margs\u001b[0m\u001b[0;34m,\u001b[0m \u001b[0;34m**\u001b[0m\u001b[0mkwargs\u001b[0m\u001b[0;34m)\u001b[0m\u001b[0;34m:\u001b[0m\u001b[0;34m\u001b[0m\u001b[0;34m\u001b[0m\u001b[0m\n\u001b[1;32m    114\u001b[0m         \u001b[0;32mwith\u001b[0m \u001b[0mctx_factory\u001b[0m\u001b[0;34m(\u001b[0m\u001b[0;34m)\u001b[0m\u001b[0;34m:\u001b[0m\u001b[0;34m\u001b[0m\u001b[0;34m\u001b[0m\u001b[0m\n\u001b[0;32m--> 115\u001b[0;31m             \u001b[0;32mreturn\u001b[0m \u001b[0mfunc\u001b[0m\u001b[0;34m(\u001b[0m\u001b[0;34m*\u001b[0m\u001b[0margs\u001b[0m\u001b[0;34m,\u001b[0m \u001b[0;34m**\u001b[0m\u001b[0mkwargs\u001b[0m\u001b[0;34m)\u001b[0m\u001b[0;34m\u001b[0m\u001b[0;34m\u001b[0m\u001b[0m\n\u001b[0m\u001b[1;32m    116\u001b[0m \u001b[0;34m\u001b[0m\u001b[0m\n\u001b[1;32m    117\u001b[0m     \u001b[0;32mreturn\u001b[0m \u001b[0mdecorate_context\u001b[0m\u001b[0;34m\u001b[0m\u001b[0;34m\u001b[0m\u001b[0m\n",
            "\u001b[0;32m/content/ocp/ocpmodels/trainers/forces_trainer.py\u001b[0m in \u001b[0;36mpredict\u001b[0;34m(self, data_loader, per_image, results_file, disable_tqdm)\u001b[0m\n\u001b[1;32m    192\u001b[0m         ):\n\u001b[1;32m    193\u001b[0m             \u001b[0;32mwith\u001b[0m \u001b[0mtorch\u001b[0m\u001b[0;34m.\u001b[0m\u001b[0mcuda\u001b[0m\u001b[0;34m.\u001b[0m\u001b[0mamp\u001b[0m\u001b[0;34m.\u001b[0m\u001b[0mautocast\u001b[0m\u001b[0;34m(\u001b[0m\u001b[0menabled\u001b[0m\u001b[0;34m=\u001b[0m\u001b[0mself\u001b[0m\u001b[0;34m.\u001b[0m\u001b[0mscaler\u001b[0m \u001b[0;32mis\u001b[0m \u001b[0;32mnot\u001b[0m \u001b[0;32mNone\u001b[0m\u001b[0;34m)\u001b[0m\u001b[0;34m:\u001b[0m\u001b[0;34m\u001b[0m\u001b[0;34m\u001b[0m\u001b[0m\n\u001b[0;32m--> 194\u001b[0;31m                 \u001b[0mout\u001b[0m \u001b[0;34m=\u001b[0m \u001b[0mself\u001b[0m\u001b[0;34m.\u001b[0m\u001b[0m_forward\u001b[0m\u001b[0;34m(\u001b[0m\u001b[0mbatch_list\u001b[0m\u001b[0;34m)\u001b[0m\u001b[0;34m\u001b[0m\u001b[0;34m\u001b[0m\u001b[0m\n\u001b[0m\u001b[1;32m    195\u001b[0m \u001b[0;34m\u001b[0m\u001b[0m\n\u001b[1;32m    196\u001b[0m             \u001b[0;32mif\u001b[0m \u001b[0mself\u001b[0m\u001b[0;34m.\u001b[0m\u001b[0mnormalizers\u001b[0m \u001b[0;32mis\u001b[0m \u001b[0;32mnot\u001b[0m \u001b[0;32mNone\u001b[0m \u001b[0;32mand\u001b[0m \u001b[0;34m\"target\"\u001b[0m \u001b[0;32min\u001b[0m \u001b[0mself\u001b[0m\u001b[0;34m.\u001b[0m\u001b[0mnormalizers\u001b[0m\u001b[0;34m:\u001b[0m\u001b[0;34m\u001b[0m\u001b[0;34m\u001b[0m\u001b[0m\n",
            "\u001b[0;32m/content/ocp/ocpmodels/trainers/forces_trainer.py\u001b[0m in \u001b[0;36m_forward\u001b[0;34m(self, batch_list)\u001b[0m\n\u001b[1;32m    447\u001b[0m         \u001b[0;31m# forward pass.\u001b[0m\u001b[0;34m\u001b[0m\u001b[0;34m\u001b[0m\u001b[0m\n\u001b[1;32m    448\u001b[0m         \u001b[0;32mif\u001b[0m \u001b[0mself\u001b[0m\u001b[0;34m.\u001b[0m\u001b[0mconfig\u001b[0m\u001b[0;34m[\u001b[0m\u001b[0;34m\"model_attributes\"\u001b[0m\u001b[0;34m]\u001b[0m\u001b[0;34m.\u001b[0m\u001b[0mget\u001b[0m\u001b[0;34m(\u001b[0m\u001b[0;34m\"regress_forces\"\u001b[0m\u001b[0;34m,\u001b[0m \u001b[0;32mTrue\u001b[0m\u001b[0;34m)\u001b[0m\u001b[0;34m:\u001b[0m\u001b[0;34m\u001b[0m\u001b[0;34m\u001b[0m\u001b[0m\n\u001b[0;32m--> 449\u001b[0;31m             \u001b[0mout_energy\u001b[0m\u001b[0;34m,\u001b[0m \u001b[0mout_forces\u001b[0m \u001b[0;34m=\u001b[0m \u001b[0mself\u001b[0m\u001b[0;34m.\u001b[0m\u001b[0mmodel\u001b[0m\u001b[0;34m(\u001b[0m\u001b[0mbatch_list\u001b[0m\u001b[0;34m)\u001b[0m\u001b[0;34m\u001b[0m\u001b[0;34m\u001b[0m\u001b[0m\n\u001b[0m\u001b[1;32m    450\u001b[0m         \u001b[0;32melse\u001b[0m\u001b[0;34m:\u001b[0m\u001b[0;34m\u001b[0m\u001b[0;34m\u001b[0m\u001b[0m\n\u001b[1;32m    451\u001b[0m             \u001b[0mout_energy\u001b[0m \u001b[0;34m=\u001b[0m \u001b[0mself\u001b[0m\u001b[0;34m.\u001b[0m\u001b[0mmodel\u001b[0m\u001b[0;34m(\u001b[0m\u001b[0mbatch_list\u001b[0m\u001b[0;34m)\u001b[0m\u001b[0;34m\u001b[0m\u001b[0;34m\u001b[0m\u001b[0m\n",
            "\u001b[0;32m/usr/local/lib/python3.10/dist-packages/torch/nn/modules/module.py\u001b[0m in \u001b[0;36m_wrapped_call_impl\u001b[0;34m(self, *args, **kwargs)\u001b[0m\n\u001b[1;32m   1516\u001b[0m             \u001b[0;32mreturn\u001b[0m \u001b[0mself\u001b[0m\u001b[0;34m.\u001b[0m\u001b[0m_compiled_call_impl\u001b[0m\u001b[0;34m(\u001b[0m\u001b[0;34m*\u001b[0m\u001b[0margs\u001b[0m\u001b[0;34m,\u001b[0m \u001b[0;34m**\u001b[0m\u001b[0mkwargs\u001b[0m\u001b[0;34m)\u001b[0m  \u001b[0;31m# type: ignore[misc]\u001b[0m\u001b[0;34m\u001b[0m\u001b[0;34m\u001b[0m\u001b[0m\n\u001b[1;32m   1517\u001b[0m         \u001b[0;32melse\u001b[0m\u001b[0;34m:\u001b[0m\u001b[0;34m\u001b[0m\u001b[0;34m\u001b[0m\u001b[0m\n\u001b[0;32m-> 1518\u001b[0;31m             \u001b[0;32mreturn\u001b[0m \u001b[0mself\u001b[0m\u001b[0;34m.\u001b[0m\u001b[0m_call_impl\u001b[0m\u001b[0;34m(\u001b[0m\u001b[0;34m*\u001b[0m\u001b[0margs\u001b[0m\u001b[0;34m,\u001b[0m \u001b[0;34m**\u001b[0m\u001b[0mkwargs\u001b[0m\u001b[0;34m)\u001b[0m\u001b[0;34m\u001b[0m\u001b[0;34m\u001b[0m\u001b[0m\n\u001b[0m\u001b[1;32m   1519\u001b[0m \u001b[0;34m\u001b[0m\u001b[0m\n\u001b[1;32m   1520\u001b[0m     \u001b[0;32mdef\u001b[0m \u001b[0m_call_impl\u001b[0m\u001b[0;34m(\u001b[0m\u001b[0mself\u001b[0m\u001b[0;34m,\u001b[0m \u001b[0;34m*\u001b[0m\u001b[0margs\u001b[0m\u001b[0;34m,\u001b[0m \u001b[0;34m**\u001b[0m\u001b[0mkwargs\u001b[0m\u001b[0;34m)\u001b[0m\u001b[0;34m:\u001b[0m\u001b[0;34m\u001b[0m\u001b[0;34m\u001b[0m\u001b[0m\n",
            "\u001b[0;32m/usr/local/lib/python3.10/dist-packages/torch/nn/modules/module.py\u001b[0m in \u001b[0;36m_call_impl\u001b[0;34m(self, *args, **kwargs)\u001b[0m\n\u001b[1;32m   1525\u001b[0m                 \u001b[0;32mor\u001b[0m \u001b[0m_global_backward_pre_hooks\u001b[0m \u001b[0;32mor\u001b[0m \u001b[0m_global_backward_hooks\u001b[0m\u001b[0;34m\u001b[0m\u001b[0;34m\u001b[0m\u001b[0m\n\u001b[1;32m   1526\u001b[0m                 or _global_forward_hooks or _global_forward_pre_hooks):\n\u001b[0;32m-> 1527\u001b[0;31m             \u001b[0;32mreturn\u001b[0m \u001b[0mforward_call\u001b[0m\u001b[0;34m(\u001b[0m\u001b[0;34m*\u001b[0m\u001b[0margs\u001b[0m\u001b[0;34m,\u001b[0m \u001b[0;34m**\u001b[0m\u001b[0mkwargs\u001b[0m\u001b[0;34m)\u001b[0m\u001b[0;34m\u001b[0m\u001b[0;34m\u001b[0m\u001b[0m\n\u001b[0m\u001b[1;32m   1528\u001b[0m \u001b[0;34m\u001b[0m\u001b[0m\n\u001b[1;32m   1529\u001b[0m         \u001b[0;32mtry\u001b[0m\u001b[0;34m:\u001b[0m\u001b[0;34m\u001b[0m\u001b[0;34m\u001b[0m\u001b[0m\n",
            "\u001b[0;32m/content/ocp/ocpmodels/common/data_parallel.py\u001b[0m in \u001b[0;36mforward\u001b[0;34m(self, batch_list, **kwargs)\u001b[0m\n\u001b[1;32m     62\u001b[0m     \u001b[0;32mdef\u001b[0m \u001b[0mforward\u001b[0m\u001b[0;34m(\u001b[0m\u001b[0mself\u001b[0m\u001b[0;34m,\u001b[0m \u001b[0mbatch_list\u001b[0m\u001b[0;34m,\u001b[0m \u001b[0;34m**\u001b[0m\u001b[0mkwargs\u001b[0m\u001b[0;34m)\u001b[0m\u001b[0;34m:\u001b[0m\u001b[0;34m\u001b[0m\u001b[0;34m\u001b[0m\u001b[0m\n\u001b[1;32m     63\u001b[0m         \u001b[0;32mif\u001b[0m \u001b[0mself\u001b[0m\u001b[0;34m.\u001b[0m\u001b[0muse_cpu\u001b[0m\u001b[0;34m:\u001b[0m\u001b[0;34m\u001b[0m\u001b[0;34m\u001b[0m\u001b[0m\n\u001b[0;32m---> 64\u001b[0;31m             \u001b[0;32mreturn\u001b[0m \u001b[0mself\u001b[0m\u001b[0;34m.\u001b[0m\u001b[0mmodule\u001b[0m\u001b[0;34m(\u001b[0m\u001b[0mbatch_list\u001b[0m\u001b[0;34m[\u001b[0m\u001b[0;36m0\u001b[0m\u001b[0;34m]\u001b[0m\u001b[0;34m)\u001b[0m\u001b[0;34m\u001b[0m\u001b[0;34m\u001b[0m\u001b[0m\n\u001b[0m\u001b[1;32m     65\u001b[0m \u001b[0;34m\u001b[0m\u001b[0m\n\u001b[1;32m     66\u001b[0m         \u001b[0;32mif\u001b[0m \u001b[0mlen\u001b[0m\u001b[0;34m(\u001b[0m\u001b[0mself\u001b[0m\u001b[0;34m.\u001b[0m\u001b[0mdevice_ids\u001b[0m\u001b[0;34m)\u001b[0m \u001b[0;34m==\u001b[0m \u001b[0;36m1\u001b[0m\u001b[0;34m:\u001b[0m\u001b[0;34m\u001b[0m\u001b[0;34m\u001b[0m\u001b[0m\n",
            "\u001b[0;32m/usr/local/lib/python3.10/dist-packages/torch/nn/modules/module.py\u001b[0m in \u001b[0;36m_wrapped_call_impl\u001b[0;34m(self, *args, **kwargs)\u001b[0m\n\u001b[1;32m   1516\u001b[0m             \u001b[0;32mreturn\u001b[0m \u001b[0mself\u001b[0m\u001b[0;34m.\u001b[0m\u001b[0m_compiled_call_impl\u001b[0m\u001b[0;34m(\u001b[0m\u001b[0;34m*\u001b[0m\u001b[0margs\u001b[0m\u001b[0;34m,\u001b[0m \u001b[0;34m**\u001b[0m\u001b[0mkwargs\u001b[0m\u001b[0;34m)\u001b[0m  \u001b[0;31m# type: ignore[misc]\u001b[0m\u001b[0;34m\u001b[0m\u001b[0;34m\u001b[0m\u001b[0m\n\u001b[1;32m   1517\u001b[0m         \u001b[0;32melse\u001b[0m\u001b[0;34m:\u001b[0m\u001b[0;34m\u001b[0m\u001b[0;34m\u001b[0m\u001b[0m\n\u001b[0;32m-> 1518\u001b[0;31m             \u001b[0;32mreturn\u001b[0m \u001b[0mself\u001b[0m\u001b[0;34m.\u001b[0m\u001b[0m_call_impl\u001b[0m\u001b[0;34m(\u001b[0m\u001b[0;34m*\u001b[0m\u001b[0margs\u001b[0m\u001b[0;34m,\u001b[0m \u001b[0;34m**\u001b[0m\u001b[0mkwargs\u001b[0m\u001b[0;34m)\u001b[0m\u001b[0;34m\u001b[0m\u001b[0;34m\u001b[0m\u001b[0m\n\u001b[0m\u001b[1;32m   1519\u001b[0m \u001b[0;34m\u001b[0m\u001b[0m\n\u001b[1;32m   1520\u001b[0m     \u001b[0;32mdef\u001b[0m \u001b[0m_call_impl\u001b[0m\u001b[0;34m(\u001b[0m\u001b[0mself\u001b[0m\u001b[0;34m,\u001b[0m \u001b[0;34m*\u001b[0m\u001b[0margs\u001b[0m\u001b[0;34m,\u001b[0m \u001b[0;34m**\u001b[0m\u001b[0mkwargs\u001b[0m\u001b[0;34m)\u001b[0m\u001b[0;34m:\u001b[0m\u001b[0;34m\u001b[0m\u001b[0;34m\u001b[0m\u001b[0m\n",
            "\u001b[0;32m/usr/local/lib/python3.10/dist-packages/torch/nn/modules/module.py\u001b[0m in \u001b[0;36m_call_impl\u001b[0;34m(self, *args, **kwargs)\u001b[0m\n\u001b[1;32m   1525\u001b[0m                 \u001b[0;32mor\u001b[0m \u001b[0m_global_backward_pre_hooks\u001b[0m \u001b[0;32mor\u001b[0m \u001b[0m_global_backward_hooks\u001b[0m\u001b[0;34m\u001b[0m\u001b[0;34m\u001b[0m\u001b[0m\n\u001b[1;32m   1526\u001b[0m                 or _global_forward_hooks or _global_forward_pre_hooks):\n\u001b[0;32m-> 1527\u001b[0;31m             \u001b[0;32mreturn\u001b[0m \u001b[0mforward_call\u001b[0m\u001b[0;34m(\u001b[0m\u001b[0;34m*\u001b[0m\u001b[0margs\u001b[0m\u001b[0;34m,\u001b[0m \u001b[0;34m**\u001b[0m\u001b[0mkwargs\u001b[0m\u001b[0;34m)\u001b[0m\u001b[0;34m\u001b[0m\u001b[0;34m\u001b[0m\u001b[0m\n\u001b[0m\u001b[1;32m   1528\u001b[0m \u001b[0;34m\u001b[0m\u001b[0m\n\u001b[1;32m   1529\u001b[0m         \u001b[0;32mtry\u001b[0m\u001b[0;34m:\u001b[0m\u001b[0;34m\u001b[0m\u001b[0;34m\u001b[0m\u001b[0m\n",
            "\u001b[0;32m/content/ocp/ocpmodels/common/utils.py\u001b[0m in \u001b[0;36mcls_method\u001b[0;34m(self, *args, **kwargs)\u001b[0m\n\u001b[1;32m    133\u001b[0m             \u001b[0;32mif\u001b[0m \u001b[0mself\u001b[0m\u001b[0;34m.\u001b[0m\u001b[0mregress_forces\u001b[0m \u001b[0;32mand\u001b[0m \u001b[0;32mnot\u001b[0m \u001b[0mgetattr\u001b[0m\u001b[0;34m(\u001b[0m\u001b[0mself\u001b[0m\u001b[0;34m,\u001b[0m \u001b[0;34m\"direct_forces\"\u001b[0m\u001b[0;34m,\u001b[0m \u001b[0;36m0\u001b[0m\u001b[0;34m)\u001b[0m\u001b[0;34m:\u001b[0m\u001b[0;34m\u001b[0m\u001b[0;34m\u001b[0m\u001b[0m\n\u001b[1;32m    134\u001b[0m                 \u001b[0mf\u001b[0m \u001b[0;34m=\u001b[0m \u001b[0mdec\u001b[0m\u001b[0;34m(\u001b[0m\u001b[0mfunc\u001b[0m\u001b[0;34m)\u001b[0m\u001b[0;34m\u001b[0m\u001b[0;34m\u001b[0m\u001b[0m\n\u001b[0;32m--> 135\u001b[0;31m             \u001b[0;32mreturn\u001b[0m \u001b[0mf\u001b[0m\u001b[0;34m(\u001b[0m\u001b[0mself\u001b[0m\u001b[0;34m,\u001b[0m \u001b[0;34m*\u001b[0m\u001b[0margs\u001b[0m\u001b[0;34m,\u001b[0m \u001b[0;34m**\u001b[0m\u001b[0mkwargs\u001b[0m\u001b[0;34m)\u001b[0m\u001b[0;34m\u001b[0m\u001b[0;34m\u001b[0m\u001b[0m\n\u001b[0m\u001b[1;32m    136\u001b[0m \u001b[0;34m\u001b[0m\u001b[0m\n\u001b[1;32m    137\u001b[0m         \u001b[0;32mreturn\u001b[0m \u001b[0mcls_method\u001b[0m\u001b[0;34m\u001b[0m\u001b[0;34m\u001b[0m\u001b[0m\n",
            "\u001b[0;32m/content/ocp/ocpmodels/models/gemnet_oc/gemnet_oc.py\u001b[0m in \u001b[0;36mforward\u001b[0;34m(self, data)\u001b[0m\n\u001b[1;32m   1275\u001b[0m         \u001b[0;31m# (nEdges, emb_size_edge)\u001b[0m\u001b[0;34m\u001b[0m\u001b[0;34m\u001b[0m\u001b[0m\n\u001b[1;32m   1276\u001b[0m \u001b[0;34m\u001b[0m\u001b[0m\n\u001b[0;32m-> 1277\u001b[0;31m         \u001b[0mx_E\u001b[0m\u001b[0;34m,\u001b[0m \u001b[0mx_F\u001b[0m \u001b[0;34m=\u001b[0m \u001b[0mself\u001b[0m\u001b[0;34m.\u001b[0m\u001b[0mout_blocks\u001b[0m\u001b[0;34m[\u001b[0m\u001b[0;36m0\u001b[0m\u001b[0;34m]\u001b[0m\u001b[0;34m(\u001b[0m\u001b[0mh\u001b[0m\u001b[0;34m,\u001b[0m \u001b[0mm\u001b[0m\u001b[0;34m,\u001b[0m \u001b[0mbasis_output\u001b[0m\u001b[0;34m,\u001b[0m \u001b[0midx_t\u001b[0m\u001b[0;34m)\u001b[0m\u001b[0;34m\u001b[0m\u001b[0;34m\u001b[0m\u001b[0m\n\u001b[0m\u001b[1;32m   1278\u001b[0m         \u001b[0;31m# (nAtoms, emb_size_atom), (nEdges, emb_size_edge)\u001b[0m\u001b[0;34m\u001b[0m\u001b[0;34m\u001b[0m\u001b[0m\n\u001b[1;32m   1279\u001b[0m         \u001b[0mxs_E\u001b[0m\u001b[0;34m,\u001b[0m \u001b[0mxs_F\u001b[0m \u001b[0;34m=\u001b[0m \u001b[0;34m[\u001b[0m\u001b[0mx_E\u001b[0m\u001b[0;34m]\u001b[0m\u001b[0;34m,\u001b[0m \u001b[0;34m[\u001b[0m\u001b[0mx_F\u001b[0m\u001b[0;34m]\u001b[0m\u001b[0;34m\u001b[0m\u001b[0;34m\u001b[0m\u001b[0m\n",
            "\u001b[0;32m/usr/local/lib/python3.10/dist-packages/torch/nn/modules/module.py\u001b[0m in \u001b[0;36m_wrapped_call_impl\u001b[0;34m(self, *args, **kwargs)\u001b[0m\n\u001b[1;32m   1516\u001b[0m             \u001b[0;32mreturn\u001b[0m \u001b[0mself\u001b[0m\u001b[0;34m.\u001b[0m\u001b[0m_compiled_call_impl\u001b[0m\u001b[0;34m(\u001b[0m\u001b[0;34m*\u001b[0m\u001b[0margs\u001b[0m\u001b[0;34m,\u001b[0m \u001b[0;34m**\u001b[0m\u001b[0mkwargs\u001b[0m\u001b[0;34m)\u001b[0m  \u001b[0;31m# type: ignore[misc]\u001b[0m\u001b[0;34m\u001b[0m\u001b[0;34m\u001b[0m\u001b[0m\n\u001b[1;32m   1517\u001b[0m         \u001b[0;32melse\u001b[0m\u001b[0;34m:\u001b[0m\u001b[0;34m\u001b[0m\u001b[0;34m\u001b[0m\u001b[0m\n\u001b[0;32m-> 1518\u001b[0;31m             \u001b[0;32mreturn\u001b[0m \u001b[0mself\u001b[0m\u001b[0;34m.\u001b[0m\u001b[0m_call_impl\u001b[0m\u001b[0;34m(\u001b[0m\u001b[0;34m*\u001b[0m\u001b[0margs\u001b[0m\u001b[0;34m,\u001b[0m \u001b[0;34m**\u001b[0m\u001b[0mkwargs\u001b[0m\u001b[0;34m)\u001b[0m\u001b[0;34m\u001b[0m\u001b[0;34m\u001b[0m\u001b[0m\n\u001b[0m\u001b[1;32m   1519\u001b[0m \u001b[0;34m\u001b[0m\u001b[0m\n\u001b[1;32m   1520\u001b[0m     \u001b[0;32mdef\u001b[0m \u001b[0m_call_impl\u001b[0m\u001b[0;34m(\u001b[0m\u001b[0mself\u001b[0m\u001b[0;34m,\u001b[0m \u001b[0;34m*\u001b[0m\u001b[0margs\u001b[0m\u001b[0;34m,\u001b[0m \u001b[0;34m**\u001b[0m\u001b[0mkwargs\u001b[0m\u001b[0;34m)\u001b[0m\u001b[0;34m:\u001b[0m\u001b[0;34m\u001b[0m\u001b[0;34m\u001b[0m\u001b[0m\n",
            "\u001b[0;32m/usr/local/lib/python3.10/dist-packages/torch/nn/modules/module.py\u001b[0m in \u001b[0;36m_call_impl\u001b[0;34m(self, *args, **kwargs)\u001b[0m\n\u001b[1;32m   1525\u001b[0m                 \u001b[0;32mor\u001b[0m \u001b[0m_global_backward_pre_hooks\u001b[0m \u001b[0;32mor\u001b[0m \u001b[0m_global_backward_hooks\u001b[0m\u001b[0;34m\u001b[0m\u001b[0;34m\u001b[0m\u001b[0m\n\u001b[1;32m   1526\u001b[0m                 or _global_forward_hooks or _global_forward_pre_hooks):\n\u001b[0;32m-> 1527\u001b[0;31m             \u001b[0;32mreturn\u001b[0m \u001b[0mforward_call\u001b[0m\u001b[0;34m(\u001b[0m\u001b[0;34m*\u001b[0m\u001b[0margs\u001b[0m\u001b[0;34m,\u001b[0m \u001b[0;34m**\u001b[0m\u001b[0mkwargs\u001b[0m\u001b[0;34m)\u001b[0m\u001b[0;34m\u001b[0m\u001b[0;34m\u001b[0m\u001b[0m\n\u001b[0m\u001b[1;32m   1528\u001b[0m \u001b[0;34m\u001b[0m\u001b[0m\n\u001b[1;32m   1529\u001b[0m         \u001b[0;32mtry\u001b[0m\u001b[0;34m:\u001b[0m\u001b[0;34m\u001b[0m\u001b[0;34m\u001b[0m\u001b[0m\n",
            "\u001b[0;32m/content/ocp/ocpmodels/models/gemnet_oc/layers/atom_update_block.py\u001b[0m in \u001b[0;36mforward\u001b[0;34m(self, h, m, basis_rad, idx_atom)\u001b[0m\n\u001b[1;32m    183\u001b[0m             \u001b[0mx_F\u001b[0m \u001b[0;34m=\u001b[0m \u001b[0mm\u001b[0m\u001b[0;34m\u001b[0m\u001b[0;34m\u001b[0m\u001b[0m\n\u001b[1;32m    184\u001b[0m             \u001b[0;32mfor\u001b[0m \u001b[0m_\u001b[0m\u001b[0;34m,\u001b[0m \u001b[0mlayer\u001b[0m \u001b[0;32min\u001b[0m \u001b[0menumerate\u001b[0m\u001b[0;34m(\u001b[0m\u001b[0mself\u001b[0m\u001b[0;34m.\u001b[0m\u001b[0mseq_forces\u001b[0m\u001b[0;34m)\u001b[0m\u001b[0;34m:\u001b[0m\u001b[0;34m\u001b[0m\u001b[0;34m\u001b[0m\u001b[0m\n\u001b[0;32m--> 185\u001b[0;31m                 \u001b[0mx_F\u001b[0m \u001b[0;34m=\u001b[0m \u001b[0mlayer\u001b[0m\u001b[0;34m(\u001b[0m\u001b[0mx_F\u001b[0m\u001b[0;34m)\u001b[0m  \u001b[0;31m# (nEdges, emb_size_edge)\u001b[0m\u001b[0;34m\u001b[0m\u001b[0;34m\u001b[0m\u001b[0m\n\u001b[0m\u001b[1;32m    186\u001b[0m \u001b[0;34m\u001b[0m\u001b[0m\n\u001b[1;32m    187\u001b[0m             \u001b[0mbasis_emb_F\u001b[0m \u001b[0;34m=\u001b[0m \u001b[0mself\u001b[0m\u001b[0;34m.\u001b[0m\u001b[0mdense_rbf_F\u001b[0m\u001b[0;34m(\u001b[0m\u001b[0mbasis_rad\u001b[0m\u001b[0;34m)\u001b[0m\u001b[0;34m\u001b[0m\u001b[0;34m\u001b[0m\u001b[0m\n",
            "\u001b[0;32m/usr/local/lib/python3.10/dist-packages/torch/nn/modules/module.py\u001b[0m in \u001b[0;36m_wrapped_call_impl\u001b[0;34m(self, *args, **kwargs)\u001b[0m\n\u001b[1;32m   1516\u001b[0m             \u001b[0;32mreturn\u001b[0m \u001b[0mself\u001b[0m\u001b[0;34m.\u001b[0m\u001b[0m_compiled_call_impl\u001b[0m\u001b[0;34m(\u001b[0m\u001b[0;34m*\u001b[0m\u001b[0margs\u001b[0m\u001b[0;34m,\u001b[0m \u001b[0;34m**\u001b[0m\u001b[0mkwargs\u001b[0m\u001b[0;34m)\u001b[0m  \u001b[0;31m# type: ignore[misc]\u001b[0m\u001b[0;34m\u001b[0m\u001b[0;34m\u001b[0m\u001b[0m\n\u001b[1;32m   1517\u001b[0m         \u001b[0;32melse\u001b[0m\u001b[0;34m:\u001b[0m\u001b[0;34m\u001b[0m\u001b[0;34m\u001b[0m\u001b[0m\n\u001b[0;32m-> 1518\u001b[0;31m             \u001b[0;32mreturn\u001b[0m \u001b[0mself\u001b[0m\u001b[0;34m.\u001b[0m\u001b[0m_call_impl\u001b[0m\u001b[0;34m(\u001b[0m\u001b[0;34m*\u001b[0m\u001b[0margs\u001b[0m\u001b[0;34m,\u001b[0m \u001b[0;34m**\u001b[0m\u001b[0mkwargs\u001b[0m\u001b[0;34m)\u001b[0m\u001b[0;34m\u001b[0m\u001b[0;34m\u001b[0m\u001b[0m\n\u001b[0m\u001b[1;32m   1519\u001b[0m \u001b[0;34m\u001b[0m\u001b[0m\n\u001b[1;32m   1520\u001b[0m     \u001b[0;32mdef\u001b[0m \u001b[0m_call_impl\u001b[0m\u001b[0;34m(\u001b[0m\u001b[0mself\u001b[0m\u001b[0;34m,\u001b[0m \u001b[0;34m*\u001b[0m\u001b[0margs\u001b[0m\u001b[0;34m,\u001b[0m \u001b[0;34m**\u001b[0m\u001b[0mkwargs\u001b[0m\u001b[0;34m)\u001b[0m\u001b[0;34m:\u001b[0m\u001b[0;34m\u001b[0m\u001b[0;34m\u001b[0m\u001b[0m\n",
            "\u001b[0;32m/usr/local/lib/python3.10/dist-packages/torch/nn/modules/module.py\u001b[0m in \u001b[0;36m_call_impl\u001b[0;34m(self, *args, **kwargs)\u001b[0m\n\u001b[1;32m   1525\u001b[0m                 \u001b[0;32mor\u001b[0m \u001b[0m_global_backward_pre_hooks\u001b[0m \u001b[0;32mor\u001b[0m \u001b[0m_global_backward_hooks\u001b[0m\u001b[0;34m\u001b[0m\u001b[0;34m\u001b[0m\u001b[0m\n\u001b[1;32m   1526\u001b[0m                 or _global_forward_hooks or _global_forward_pre_hooks):\n\u001b[0;32m-> 1527\u001b[0;31m             \u001b[0;32mreturn\u001b[0m \u001b[0mforward_call\u001b[0m\u001b[0;34m(\u001b[0m\u001b[0;34m*\u001b[0m\u001b[0margs\u001b[0m\u001b[0;34m,\u001b[0m \u001b[0;34m**\u001b[0m\u001b[0mkwargs\u001b[0m\u001b[0;34m)\u001b[0m\u001b[0;34m\u001b[0m\u001b[0;34m\u001b[0m\u001b[0m\n\u001b[0m\u001b[1;32m   1528\u001b[0m \u001b[0;34m\u001b[0m\u001b[0m\n\u001b[1;32m   1529\u001b[0m         \u001b[0;32mtry\u001b[0m\u001b[0;34m:\u001b[0m\u001b[0;34m\u001b[0m\u001b[0;34m\u001b[0m\u001b[0m\n",
            "\u001b[0;32m/content/ocp/ocpmodels/models/gemnet_oc/layers/base_layers.py\u001b[0m in \u001b[0;36mforward\u001b[0;34m(self, input)\u001b[0m\n\u001b[1;32m    107\u001b[0m \u001b[0;34m\u001b[0m\u001b[0m\n\u001b[1;32m    108\u001b[0m     \u001b[0;32mdef\u001b[0m \u001b[0mforward\u001b[0m\u001b[0;34m(\u001b[0m\u001b[0mself\u001b[0m\u001b[0;34m,\u001b[0m \u001b[0minput\u001b[0m\u001b[0;34m)\u001b[0m\u001b[0;34m:\u001b[0m\u001b[0;34m\u001b[0m\u001b[0;34m\u001b[0m\u001b[0m\n\u001b[0;32m--> 109\u001b[0;31m         \u001b[0mx\u001b[0m \u001b[0;34m=\u001b[0m \u001b[0mself\u001b[0m\u001b[0;34m.\u001b[0m\u001b[0mdense_mlp\u001b[0m\u001b[0;34m(\u001b[0m\u001b[0minput\u001b[0m\u001b[0;34m)\u001b[0m\u001b[0;34m\u001b[0m\u001b[0;34m\u001b[0m\u001b[0m\n\u001b[0m\u001b[1;32m    110\u001b[0m         \u001b[0mx\u001b[0m \u001b[0;34m=\u001b[0m \u001b[0minput\u001b[0m \u001b[0;34m+\u001b[0m \u001b[0mx\u001b[0m\u001b[0;34m\u001b[0m\u001b[0;34m\u001b[0m\u001b[0m\n\u001b[1;32m    111\u001b[0m         \u001b[0mx\u001b[0m \u001b[0;34m=\u001b[0m \u001b[0mx\u001b[0m \u001b[0;34m*\u001b[0m \u001b[0mself\u001b[0m\u001b[0;34m.\u001b[0m\u001b[0minv_sqrt_2\u001b[0m\u001b[0;34m\u001b[0m\u001b[0;34m\u001b[0m\u001b[0m\n",
            "\u001b[0;32m/usr/local/lib/python3.10/dist-packages/torch/nn/modules/module.py\u001b[0m in \u001b[0;36m_wrapped_call_impl\u001b[0;34m(self, *args, **kwargs)\u001b[0m\n\u001b[1;32m   1516\u001b[0m             \u001b[0;32mreturn\u001b[0m \u001b[0mself\u001b[0m\u001b[0;34m.\u001b[0m\u001b[0m_compiled_call_impl\u001b[0m\u001b[0;34m(\u001b[0m\u001b[0;34m*\u001b[0m\u001b[0margs\u001b[0m\u001b[0;34m,\u001b[0m \u001b[0;34m**\u001b[0m\u001b[0mkwargs\u001b[0m\u001b[0;34m)\u001b[0m  \u001b[0;31m# type: ignore[misc]\u001b[0m\u001b[0;34m\u001b[0m\u001b[0;34m\u001b[0m\u001b[0m\n\u001b[1;32m   1517\u001b[0m         \u001b[0;32melse\u001b[0m\u001b[0;34m:\u001b[0m\u001b[0;34m\u001b[0m\u001b[0;34m\u001b[0m\u001b[0m\n\u001b[0;32m-> 1518\u001b[0;31m             \u001b[0;32mreturn\u001b[0m \u001b[0mself\u001b[0m\u001b[0;34m.\u001b[0m\u001b[0m_call_impl\u001b[0m\u001b[0;34m(\u001b[0m\u001b[0;34m*\u001b[0m\u001b[0margs\u001b[0m\u001b[0;34m,\u001b[0m \u001b[0;34m**\u001b[0m\u001b[0mkwargs\u001b[0m\u001b[0;34m)\u001b[0m\u001b[0;34m\u001b[0m\u001b[0;34m\u001b[0m\u001b[0m\n\u001b[0m\u001b[1;32m   1519\u001b[0m \u001b[0;34m\u001b[0m\u001b[0m\n\u001b[1;32m   1520\u001b[0m     \u001b[0;32mdef\u001b[0m \u001b[0m_call_impl\u001b[0m\u001b[0;34m(\u001b[0m\u001b[0mself\u001b[0m\u001b[0;34m,\u001b[0m \u001b[0;34m*\u001b[0m\u001b[0margs\u001b[0m\u001b[0;34m,\u001b[0m \u001b[0;34m**\u001b[0m\u001b[0mkwargs\u001b[0m\u001b[0;34m)\u001b[0m\u001b[0;34m:\u001b[0m\u001b[0;34m\u001b[0m\u001b[0;34m\u001b[0m\u001b[0m\n",
            "\u001b[0;32m/usr/local/lib/python3.10/dist-packages/torch/nn/modules/module.py\u001b[0m in \u001b[0;36m_call_impl\u001b[0;34m(self, *args, **kwargs)\u001b[0m\n\u001b[1;32m   1525\u001b[0m                 \u001b[0;32mor\u001b[0m \u001b[0m_global_backward_pre_hooks\u001b[0m \u001b[0;32mor\u001b[0m \u001b[0m_global_backward_hooks\u001b[0m\u001b[0;34m\u001b[0m\u001b[0;34m\u001b[0m\u001b[0m\n\u001b[1;32m   1526\u001b[0m                 or _global_forward_hooks or _global_forward_pre_hooks):\n\u001b[0;32m-> 1527\u001b[0;31m             \u001b[0;32mreturn\u001b[0m \u001b[0mforward_call\u001b[0m\u001b[0;34m(\u001b[0m\u001b[0;34m*\u001b[0m\u001b[0margs\u001b[0m\u001b[0;34m,\u001b[0m \u001b[0;34m**\u001b[0m\u001b[0mkwargs\u001b[0m\u001b[0;34m)\u001b[0m\u001b[0;34m\u001b[0m\u001b[0;34m\u001b[0m\u001b[0m\n\u001b[0m\u001b[1;32m   1528\u001b[0m \u001b[0;34m\u001b[0m\u001b[0m\n\u001b[1;32m   1529\u001b[0m         \u001b[0;32mtry\u001b[0m\u001b[0;34m:\u001b[0m\u001b[0;34m\u001b[0m\u001b[0;34m\u001b[0m\u001b[0m\n",
            "\u001b[0;32m/usr/local/lib/python3.10/dist-packages/torch/nn/modules/container.py\u001b[0m in \u001b[0;36mforward\u001b[0;34m(self, input)\u001b[0m\n\u001b[1;32m    213\u001b[0m     \u001b[0;32mdef\u001b[0m \u001b[0mforward\u001b[0m\u001b[0;34m(\u001b[0m\u001b[0mself\u001b[0m\u001b[0;34m,\u001b[0m \u001b[0minput\u001b[0m\u001b[0;34m)\u001b[0m\u001b[0;34m:\u001b[0m\u001b[0;34m\u001b[0m\u001b[0;34m\u001b[0m\u001b[0m\n\u001b[1;32m    214\u001b[0m         \u001b[0;32mfor\u001b[0m \u001b[0mmodule\u001b[0m \u001b[0;32min\u001b[0m \u001b[0mself\u001b[0m\u001b[0;34m:\u001b[0m\u001b[0;34m\u001b[0m\u001b[0;34m\u001b[0m\u001b[0m\n\u001b[0;32m--> 215\u001b[0;31m             \u001b[0minput\u001b[0m \u001b[0;34m=\u001b[0m \u001b[0mmodule\u001b[0m\u001b[0;34m(\u001b[0m\u001b[0minput\u001b[0m\u001b[0;34m)\u001b[0m\u001b[0;34m\u001b[0m\u001b[0;34m\u001b[0m\u001b[0m\n\u001b[0m\u001b[1;32m    216\u001b[0m         \u001b[0;32mreturn\u001b[0m \u001b[0minput\u001b[0m\u001b[0;34m\u001b[0m\u001b[0;34m\u001b[0m\u001b[0m\n\u001b[1;32m    217\u001b[0m \u001b[0;34m\u001b[0m\u001b[0m\n",
            "\u001b[0;32m/usr/local/lib/python3.10/dist-packages/torch/nn/modules/module.py\u001b[0m in \u001b[0;36m_wrapped_call_impl\u001b[0;34m(self, *args, **kwargs)\u001b[0m\n\u001b[1;32m   1516\u001b[0m             \u001b[0;32mreturn\u001b[0m \u001b[0mself\u001b[0m\u001b[0;34m.\u001b[0m\u001b[0m_compiled_call_impl\u001b[0m\u001b[0;34m(\u001b[0m\u001b[0;34m*\u001b[0m\u001b[0margs\u001b[0m\u001b[0;34m,\u001b[0m \u001b[0;34m**\u001b[0m\u001b[0mkwargs\u001b[0m\u001b[0;34m)\u001b[0m  \u001b[0;31m# type: ignore[misc]\u001b[0m\u001b[0;34m\u001b[0m\u001b[0;34m\u001b[0m\u001b[0m\n\u001b[1;32m   1517\u001b[0m         \u001b[0;32melse\u001b[0m\u001b[0;34m:\u001b[0m\u001b[0;34m\u001b[0m\u001b[0;34m\u001b[0m\u001b[0m\n\u001b[0;32m-> 1518\u001b[0;31m             \u001b[0;32mreturn\u001b[0m \u001b[0mself\u001b[0m\u001b[0;34m.\u001b[0m\u001b[0m_call_impl\u001b[0m\u001b[0;34m(\u001b[0m\u001b[0;34m*\u001b[0m\u001b[0margs\u001b[0m\u001b[0;34m,\u001b[0m \u001b[0;34m**\u001b[0m\u001b[0mkwargs\u001b[0m\u001b[0;34m)\u001b[0m\u001b[0;34m\u001b[0m\u001b[0;34m\u001b[0m\u001b[0m\n\u001b[0m\u001b[1;32m   1519\u001b[0m \u001b[0;34m\u001b[0m\u001b[0m\n\u001b[1;32m   1520\u001b[0m     \u001b[0;32mdef\u001b[0m \u001b[0m_call_impl\u001b[0m\u001b[0;34m(\u001b[0m\u001b[0mself\u001b[0m\u001b[0;34m,\u001b[0m \u001b[0;34m*\u001b[0m\u001b[0margs\u001b[0m\u001b[0;34m,\u001b[0m \u001b[0;34m**\u001b[0m\u001b[0mkwargs\u001b[0m\u001b[0;34m)\u001b[0m\u001b[0;34m:\u001b[0m\u001b[0;34m\u001b[0m\u001b[0;34m\u001b[0m\u001b[0m\n",
            "\u001b[0;32m/usr/local/lib/python3.10/dist-packages/torch/nn/modules/module.py\u001b[0m in \u001b[0;36m_call_impl\u001b[0;34m(self, *args, **kwargs)\u001b[0m\n\u001b[1;32m   1525\u001b[0m                 \u001b[0;32mor\u001b[0m \u001b[0m_global_backward_pre_hooks\u001b[0m \u001b[0;32mor\u001b[0m \u001b[0m_global_backward_hooks\u001b[0m\u001b[0;34m\u001b[0m\u001b[0;34m\u001b[0m\u001b[0m\n\u001b[1;32m   1526\u001b[0m                 or _global_forward_hooks or _global_forward_pre_hooks):\n\u001b[0;32m-> 1527\u001b[0;31m             \u001b[0;32mreturn\u001b[0m \u001b[0mforward_call\u001b[0m\u001b[0;34m(\u001b[0m\u001b[0;34m*\u001b[0m\u001b[0margs\u001b[0m\u001b[0;34m,\u001b[0m \u001b[0;34m**\u001b[0m\u001b[0mkwargs\u001b[0m\u001b[0;34m)\u001b[0m\u001b[0;34m\u001b[0m\u001b[0;34m\u001b[0m\u001b[0m\n\u001b[0m\u001b[1;32m   1528\u001b[0m \u001b[0;34m\u001b[0m\u001b[0m\n\u001b[1;32m   1529\u001b[0m         \u001b[0;32mtry\u001b[0m\u001b[0;34m:\u001b[0m\u001b[0;34m\u001b[0m\u001b[0;34m\u001b[0m\u001b[0m\n",
            "\u001b[0;32m/content/ocp/ocpmodels/models/gemnet_oc/layers/base_layers.py\u001b[0m in \u001b[0;36mforward\u001b[0;34m(self, x)\u001b[0m\n\u001b[1;32m     58\u001b[0m \u001b[0;34m\u001b[0m\u001b[0m\n\u001b[1;32m     59\u001b[0m     \u001b[0;32mdef\u001b[0m \u001b[0mforward\u001b[0m\u001b[0;34m(\u001b[0m\u001b[0mself\u001b[0m\u001b[0;34m,\u001b[0m \u001b[0mx\u001b[0m\u001b[0;34m)\u001b[0m\u001b[0;34m:\u001b[0m\u001b[0;34m\u001b[0m\u001b[0;34m\u001b[0m\u001b[0m\n\u001b[0;32m---> 60\u001b[0;31m         \u001b[0mx\u001b[0m \u001b[0;34m=\u001b[0m \u001b[0mself\u001b[0m\u001b[0;34m.\u001b[0m\u001b[0mlinear\u001b[0m\u001b[0;34m(\u001b[0m\u001b[0mx\u001b[0m\u001b[0;34m)\u001b[0m\u001b[0;34m\u001b[0m\u001b[0;34m\u001b[0m\u001b[0m\n\u001b[0m\u001b[1;32m     61\u001b[0m         \u001b[0mx\u001b[0m \u001b[0;34m=\u001b[0m \u001b[0mself\u001b[0m\u001b[0;34m.\u001b[0m\u001b[0m_activation\u001b[0m\u001b[0;34m(\u001b[0m\u001b[0mx\u001b[0m\u001b[0;34m)\u001b[0m\u001b[0;34m\u001b[0m\u001b[0;34m\u001b[0m\u001b[0m\n\u001b[1;32m     62\u001b[0m         \u001b[0;32mreturn\u001b[0m \u001b[0mx\u001b[0m\u001b[0;34m\u001b[0m\u001b[0;34m\u001b[0m\u001b[0m\n",
            "\u001b[0;32m/usr/local/lib/python3.10/dist-packages/torch/nn/modules/module.py\u001b[0m in \u001b[0;36m_wrapped_call_impl\u001b[0;34m(self, *args, **kwargs)\u001b[0m\n\u001b[1;32m   1516\u001b[0m             \u001b[0;32mreturn\u001b[0m \u001b[0mself\u001b[0m\u001b[0;34m.\u001b[0m\u001b[0m_compiled_call_impl\u001b[0m\u001b[0;34m(\u001b[0m\u001b[0;34m*\u001b[0m\u001b[0margs\u001b[0m\u001b[0;34m,\u001b[0m \u001b[0;34m**\u001b[0m\u001b[0mkwargs\u001b[0m\u001b[0;34m)\u001b[0m  \u001b[0;31m# type: ignore[misc]\u001b[0m\u001b[0;34m\u001b[0m\u001b[0;34m\u001b[0m\u001b[0m\n\u001b[1;32m   1517\u001b[0m         \u001b[0;32melse\u001b[0m\u001b[0;34m:\u001b[0m\u001b[0;34m\u001b[0m\u001b[0;34m\u001b[0m\u001b[0m\n\u001b[0;32m-> 1518\u001b[0;31m             \u001b[0;32mreturn\u001b[0m \u001b[0mself\u001b[0m\u001b[0;34m.\u001b[0m\u001b[0m_call_impl\u001b[0m\u001b[0;34m(\u001b[0m\u001b[0;34m*\u001b[0m\u001b[0margs\u001b[0m\u001b[0;34m,\u001b[0m \u001b[0;34m**\u001b[0m\u001b[0mkwargs\u001b[0m\u001b[0;34m)\u001b[0m\u001b[0;34m\u001b[0m\u001b[0;34m\u001b[0m\u001b[0m\n\u001b[0m\u001b[1;32m   1519\u001b[0m \u001b[0;34m\u001b[0m\u001b[0m\n\u001b[1;32m   1520\u001b[0m     \u001b[0;32mdef\u001b[0m \u001b[0m_call_impl\u001b[0m\u001b[0;34m(\u001b[0m\u001b[0mself\u001b[0m\u001b[0;34m,\u001b[0m \u001b[0;34m*\u001b[0m\u001b[0margs\u001b[0m\u001b[0;34m,\u001b[0m \u001b[0;34m**\u001b[0m\u001b[0mkwargs\u001b[0m\u001b[0;34m)\u001b[0m\u001b[0;34m:\u001b[0m\u001b[0;34m\u001b[0m\u001b[0;34m\u001b[0m\u001b[0m\n",
            "\u001b[0;32m/usr/local/lib/python3.10/dist-packages/torch/nn/modules/module.py\u001b[0m in \u001b[0;36m_call_impl\u001b[0;34m(self, *args, **kwargs)\u001b[0m\n\u001b[1;32m   1525\u001b[0m                 \u001b[0;32mor\u001b[0m \u001b[0m_global_backward_pre_hooks\u001b[0m \u001b[0;32mor\u001b[0m \u001b[0m_global_backward_hooks\u001b[0m\u001b[0;34m\u001b[0m\u001b[0;34m\u001b[0m\u001b[0m\n\u001b[1;32m   1526\u001b[0m                 or _global_forward_hooks or _global_forward_pre_hooks):\n\u001b[0;32m-> 1527\u001b[0;31m             \u001b[0;32mreturn\u001b[0m \u001b[0mforward_call\u001b[0m\u001b[0;34m(\u001b[0m\u001b[0;34m*\u001b[0m\u001b[0margs\u001b[0m\u001b[0;34m,\u001b[0m \u001b[0;34m**\u001b[0m\u001b[0mkwargs\u001b[0m\u001b[0;34m)\u001b[0m\u001b[0;34m\u001b[0m\u001b[0;34m\u001b[0m\u001b[0m\n\u001b[0m\u001b[1;32m   1528\u001b[0m \u001b[0;34m\u001b[0m\u001b[0m\n\u001b[1;32m   1529\u001b[0m         \u001b[0;32mtry\u001b[0m\u001b[0;34m:\u001b[0m\u001b[0;34m\u001b[0m\u001b[0;34m\u001b[0m\u001b[0m\n",
            "\u001b[0;32m/usr/local/lib/python3.10/dist-packages/torch/nn/modules/linear.py\u001b[0m in \u001b[0;36mforward\u001b[0;34m(self, input)\u001b[0m\n\u001b[1;32m    112\u001b[0m \u001b[0;34m\u001b[0m\u001b[0m\n\u001b[1;32m    113\u001b[0m     \u001b[0;32mdef\u001b[0m \u001b[0mforward\u001b[0m\u001b[0;34m(\u001b[0m\u001b[0mself\u001b[0m\u001b[0;34m,\u001b[0m \u001b[0minput\u001b[0m\u001b[0;34m:\u001b[0m \u001b[0mTensor\u001b[0m\u001b[0;34m)\u001b[0m \u001b[0;34m->\u001b[0m \u001b[0mTensor\u001b[0m\u001b[0;34m:\u001b[0m\u001b[0;34m\u001b[0m\u001b[0;34m\u001b[0m\u001b[0m\n\u001b[0;32m--> 114\u001b[0;31m         \u001b[0;32mreturn\u001b[0m \u001b[0mF\u001b[0m\u001b[0;34m.\u001b[0m\u001b[0mlinear\u001b[0m\u001b[0;34m(\u001b[0m\u001b[0minput\u001b[0m\u001b[0;34m,\u001b[0m \u001b[0mself\u001b[0m\u001b[0;34m.\u001b[0m\u001b[0mweight\u001b[0m\u001b[0;34m,\u001b[0m \u001b[0mself\u001b[0m\u001b[0;34m.\u001b[0m\u001b[0mbias\u001b[0m\u001b[0;34m)\u001b[0m\u001b[0;34m\u001b[0m\u001b[0;34m\u001b[0m\u001b[0m\n\u001b[0m\u001b[1;32m    115\u001b[0m \u001b[0;34m\u001b[0m\u001b[0m\n\u001b[1;32m    116\u001b[0m     \u001b[0;32mdef\u001b[0m \u001b[0mextra_repr\u001b[0m\u001b[0;34m(\u001b[0m\u001b[0mself\u001b[0m\u001b[0;34m)\u001b[0m \u001b[0;34m->\u001b[0m \u001b[0mstr\u001b[0m\u001b[0;34m:\u001b[0m\u001b[0;34m\u001b[0m\u001b[0;34m\u001b[0m\u001b[0m\n",
            "\u001b[0;31mKeyboardInterrupt\u001b[0m: "
          ]
        }
      ]
    },
    {
      "cell_type": "markdown",
      "source": [
        "\n",
        "\n",
        "```\n",
        "from ocdata.oc22_dataset.surface import Slab, SlabGenerator, generate_all_slabs\n",
        "from pymatgen.entries.computed_entries import ComputedStructureEntry\n",
        "\n",
        "import time\n",
        "import random\n",
        "\n",
        "json_file_path = \"unary_list.json\"\n",
        "all_pbx_stable_entries = [ComputedStructureEntry.from_dict(d) for d in \\\n",
        "                          json.load(open(json_file_path))]\n",
        "\n",
        "\n",
        "def generate_test_bulk(all_pbx_stable_entries, seed=0):\n",
        "    random.seed(seed)\n",
        "    tot_start = time.time()\n",
        "    entry = random.sample(all_pbx_stable_entries, 1)[0]\n",
        "    test_bulk = entry.structure\n",
        "    print('Bulk:',test_bulk.formula)  # You can remove this line if you don't want to print the result\n",
        "    return test_bulk\n",
        "def generate_random_sa_metal(all_metal_name_list, seed=0):\n",
        "    random.seed(seed)\n",
        "    tot_start = time.time()\n",
        "    entry = random.sample(all_metal_name_list, 1)[0]\n",
        "    sa = Molecule([entry], [[0, 0, 0]])\n",
        "    print('SA:',sa.formula)  # You can remove this line if you don't want to print the result\n",
        "    return sa\n",
        "\n",
        "from ocdata.oc22_dataset.MXide_adsorption import MXideAdsorbateGenerator\n",
        "from ocdata.oc22_dataset.termination_generator import get_random_clean_slabs\n",
        "from pymatgen.core.structure import Structure, Lattice, Molecule\n",
        "from pymatgen.io.ase import AseAtomsAdaptor\n",
        "from ase.constraints import FixAtoms\n",
        "\n",
        "bulk=generate_test_bulk(all_pbx_stable_entries)\n",
        "SA = generate_random_sa_metal(all_metal_name_list)\n",
        "\n",
        "random_slab=get_random_clean_slabs(bulk, 1, 2, 10, 15, lll_reduce=False, in_unit_planes=False, primitive=False,\n",
        "                           max_normal_search=None, min_lw=8.0, xsite='O', height=0.9,\n",
        "                           r=None, max_ssize=100, check_polar=True) # bulk, n_slabs, max_index, min_slab_size,\n",
        "print()\n",
        "mxide_adsgen = MXideAdsorbateGenerator(random_slab[0], height=1.25, repeat=[1,1,1], r=random)\n",
        "adslab=mxide_adsgen.generate_random_adsorption_structure(SA, 1, max_coverage=1)\n",
        "\n",
        "ase_adslab=AseAtomsAdaptor.get_atoms(adslab[0])\n",
        "z_positions=[atom.position[2] for atom in ase_adslab]\n",
        "c = FixAtoms(indices=[atom.index for atom in ase_adslab if atom.position[2] <np.median(z_positions)])\n",
        "ase_adslab.set_constraint(c)\n",
        "visual(ase_adslab, './', (300, 300),2)\n",
        "\n",
        "from ocdata import vasp\n",
        "import os\n",
        "out_directory = './output_dir'\n",
        "subdirectory = '1'\n",
        "subdir_path = os.path.join(out_directory, subdirectory)\n",
        "os.makedirs(subdir_path, exist_ok=True)\n",
        "vasp.write_vasp_input_files(ase_adslab, outdir=subdir_path, vasp_flags=None)\n",
        "\n",
        "```\n",
        "\n"
      ],
      "metadata": {
        "id": "lXfEtZfrI2Z3"
      }
    },
    {
      "cell_type": "markdown",
      "source": [
        "\n",
        "이렇게도 만들 수 있음.\n",
        "```\n",
        "slab_list=generate_all_slabs(test_bulk,1,10,15) #structure, max_index, min_slab_size, min_vacuum_size,bonds=None, tol=0.1, ftol=0.1\n",
        "print('===========================================')\n",
        "print(len(slab_list))\n",
        "indices=slab_list[0].get_surface_sites()\n",
        "\n",
        "print(indices['top'])\n",
        "random_site = random.choice(indices['top'])\n",
        "# Print the random site\n",
        "print(random_site)\n",
        "last_element = random_site[-1]\n",
        "print(last_element)\n",
        "\n",
        "slab_list[0].add_adsorbate_atom([last_element],'Pt',0.9)\n",
        "slab_list[0]\n",
        "print(len(indices['top']))\n",
        "print(len(slab_list))\n",
        "a=slab_list[0].num_sites  # 이걸로 if statement만들기 cutoff max num atom < 100\n",
        "print(a)\n",
        "```\n",
        "\n"
      ],
      "metadata": {
        "id": "uwNik4kY26LK"
      }
    }
  ],
  "metadata": {
    "colab": {
      "provenance": [],
      "machine_shape": "hm",
      "include_colab_link": true
    },
    "kernelspec": {
      "display_name": "Python 3",
      "name": "python3"
    },
    "language_info": {
      "name": "python"
    }
  },
  "nbformat": 4,
  "nbformat_minor": 0
}